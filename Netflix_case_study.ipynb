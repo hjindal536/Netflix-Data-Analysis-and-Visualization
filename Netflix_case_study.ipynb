{
  "nbformat": 4,
  "nbformat_minor": 0,
  "metadata": {
    "colab": {
      "provenance": []
    },
    "kernelspec": {
      "name": "python3",
      "display_name": "Python 3"
    },
    "language_info": {
      "name": "python"
    }
  },
  "cells": [
    {
      "cell_type": "markdown",
      "source": [
        "# **Business Case: Netflix - Data Exploration & Visualisation**  :"
      ],
      "metadata": {
        "id": "B0rHOUAJzc5j"
      }
    },
    {
      "cell_type": "markdown",
      "source": [
        "***Business Problem*** : Analyze the data and generate insights that could help Netflix in deciding which type of shows/movies to produce and how they can grow the business in different countries"
      ],
      "metadata": {
        "id": "JEZpJQMKiaVj"
      }
    },
    {
      "cell_type": "code",
      "execution_count": null,
      "metadata": {
        "colab": {
          "base_uri": "https://localhost:8080/"
        },
        "id": "zLSXnaSue_8Y",
        "outputId": "39eb78ba-9865-4e97-b15e-2b6315c31974"
      },
      "outputs": [
        {
          "output_type": "stream",
          "name": "stdout",
          "text": [
            "Drive already mounted at /content/drive; to attempt to forcibly remount, call drive.mount(\"/content/drive\", force_remount=True).\n"
          ]
        }
      ],
      "source": [
        "from google.colab import drive\n",
        "drive.mount('/content/drive')"
      ]
    },
    {
      "cell_type": "code",
      "source": [
        "#importing different libaries\n",
        "import numpy as np\n",
        "import pandas as pd \n",
        "import seaborn as sns\n",
        "import matplotlib.pyplot as plt"
      ],
      "metadata": {
        "id": "KziFZM4pfNkI"
      },
      "execution_count": null,
      "outputs": []
    },
    {
      "cell_type": "code",
      "source": [
        "import warnings #to ignore the warnings & make our code more representable\n",
        "warnings.filterwarnings(\"ignore\")"
      ],
      "metadata": {
        "id": "mcJcfywkGldG"
      },
      "execution_count": null,
      "outputs": []
    },
    {
      "cell_type": "code",
      "source": [
        "#Loading of dataset\n",
        "df = pd.read_csv(\"/content/drive/MyDrive/Datasets/netflix.csv\")\n",
        "df.head()"
      ],
      "metadata": {
        "colab": {
          "base_uri": "https://localhost:8080/",
          "height": 337
        },
        "id": "SxedZKekfVyZ",
        "outputId": "be8f1a8b-da98-4d09-f47e-8c7d1fc9eeb3"
      },
      "execution_count": null,
      "outputs": [
        {
          "output_type": "execute_result",
          "data": {
            "text/plain": [
              "  show_id     type                  title         director  \\\n",
              "0      s1    Movie   Dick Johnson Is Dead  Kirsten Johnson   \n",
              "1      s2  TV Show          Blood & Water              NaN   \n",
              "2      s3  TV Show              Ganglands  Julien Leclercq   \n",
              "3      s4  TV Show  Jailbirds New Orleans              NaN   \n",
              "4      s5  TV Show           Kota Factory              NaN   \n",
              "\n",
              "                                                cast        country  \\\n",
              "0                                                NaN  United States   \n",
              "1  Ama Qamata, Khosi Ngema, Gail Mabalane, Thaban...   South Africa   \n",
              "2  Sami Bouajila, Tracy Gotoas, Samuel Jouy, Nabi...            NaN   \n",
              "3                                                NaN            NaN   \n",
              "4  Mayur More, Jitendra Kumar, Ranjan Raj, Alam K...          India   \n",
              "\n",
              "           date_added  release_year rating   duration  \\\n",
              "0  September 25, 2021          2020  PG-13     90 min   \n",
              "1  September 24, 2021          2021  TV-MA  2 Seasons   \n",
              "2  September 24, 2021          2021  TV-MA   1 Season   \n",
              "3  September 24, 2021          2021  TV-MA   1 Season   \n",
              "4  September 24, 2021          2021  TV-MA  2 Seasons   \n",
              "\n",
              "                                           listed_in  \\\n",
              "0                                      Documentaries   \n",
              "1    International TV Shows, TV Dramas, TV Mysteries   \n",
              "2  Crime TV Shows, International TV Shows, TV Act...   \n",
              "3                             Docuseries, Reality TV   \n",
              "4  International TV Shows, Romantic TV Shows, TV ...   \n",
              "\n",
              "                                         description  \n",
              "0  As her father nears the end of his life, filmm...  \n",
              "1  After crossing paths at a party, a Cape Town t...  \n",
              "2  To protect his family from a powerful drug lor...  \n",
              "3  Feuds, flirtations and toilet talk go down amo...  \n",
              "4  In a city of coaching centers known to train I...  "
            ],
            "text/html": [
              "\n",
              "  <div id=\"df-3454935f-f19c-4c31-a122-d8b828dd2198\">\n",
              "    <div class=\"colab-df-container\">\n",
              "      <div>\n",
              "<style scoped>\n",
              "    .dataframe tbody tr th:only-of-type {\n",
              "        vertical-align: middle;\n",
              "    }\n",
              "\n",
              "    .dataframe tbody tr th {\n",
              "        vertical-align: top;\n",
              "    }\n",
              "\n",
              "    .dataframe thead th {\n",
              "        text-align: right;\n",
              "    }\n",
              "</style>\n",
              "<table border=\"1\" class=\"dataframe\">\n",
              "  <thead>\n",
              "    <tr style=\"text-align: right;\">\n",
              "      <th></th>\n",
              "      <th>show_id</th>\n",
              "      <th>type</th>\n",
              "      <th>title</th>\n",
              "      <th>director</th>\n",
              "      <th>cast</th>\n",
              "      <th>country</th>\n",
              "      <th>date_added</th>\n",
              "      <th>release_year</th>\n",
              "      <th>rating</th>\n",
              "      <th>duration</th>\n",
              "      <th>listed_in</th>\n",
              "      <th>description</th>\n",
              "    </tr>\n",
              "  </thead>\n",
              "  <tbody>\n",
              "    <tr>\n",
              "      <th>0</th>\n",
              "      <td>s1</td>\n",
              "      <td>Movie</td>\n",
              "      <td>Dick Johnson Is Dead</td>\n",
              "      <td>Kirsten Johnson</td>\n",
              "      <td>NaN</td>\n",
              "      <td>United States</td>\n",
              "      <td>September 25, 2021</td>\n",
              "      <td>2020</td>\n",
              "      <td>PG-13</td>\n",
              "      <td>90 min</td>\n",
              "      <td>Documentaries</td>\n",
              "      <td>As her father nears the end of his life, filmm...</td>\n",
              "    </tr>\n",
              "    <tr>\n",
              "      <th>1</th>\n",
              "      <td>s2</td>\n",
              "      <td>TV Show</td>\n",
              "      <td>Blood &amp; Water</td>\n",
              "      <td>NaN</td>\n",
              "      <td>Ama Qamata, Khosi Ngema, Gail Mabalane, Thaban...</td>\n",
              "      <td>South Africa</td>\n",
              "      <td>September 24, 2021</td>\n",
              "      <td>2021</td>\n",
              "      <td>TV-MA</td>\n",
              "      <td>2 Seasons</td>\n",
              "      <td>International TV Shows, TV Dramas, TV Mysteries</td>\n",
              "      <td>After crossing paths at a party, a Cape Town t...</td>\n",
              "    </tr>\n",
              "    <tr>\n",
              "      <th>2</th>\n",
              "      <td>s3</td>\n",
              "      <td>TV Show</td>\n",
              "      <td>Ganglands</td>\n",
              "      <td>Julien Leclercq</td>\n",
              "      <td>Sami Bouajila, Tracy Gotoas, Samuel Jouy, Nabi...</td>\n",
              "      <td>NaN</td>\n",
              "      <td>September 24, 2021</td>\n",
              "      <td>2021</td>\n",
              "      <td>TV-MA</td>\n",
              "      <td>1 Season</td>\n",
              "      <td>Crime TV Shows, International TV Shows, TV Act...</td>\n",
              "      <td>To protect his family from a powerful drug lor...</td>\n",
              "    </tr>\n",
              "    <tr>\n",
              "      <th>3</th>\n",
              "      <td>s4</td>\n",
              "      <td>TV Show</td>\n",
              "      <td>Jailbirds New Orleans</td>\n",
              "      <td>NaN</td>\n",
              "      <td>NaN</td>\n",
              "      <td>NaN</td>\n",
              "      <td>September 24, 2021</td>\n",
              "      <td>2021</td>\n",
              "      <td>TV-MA</td>\n",
              "      <td>1 Season</td>\n",
              "      <td>Docuseries, Reality TV</td>\n",
              "      <td>Feuds, flirtations and toilet talk go down amo...</td>\n",
              "    </tr>\n",
              "    <tr>\n",
              "      <th>4</th>\n",
              "      <td>s5</td>\n",
              "      <td>TV Show</td>\n",
              "      <td>Kota Factory</td>\n",
              "      <td>NaN</td>\n",
              "      <td>Mayur More, Jitendra Kumar, Ranjan Raj, Alam K...</td>\n",
              "      <td>India</td>\n",
              "      <td>September 24, 2021</td>\n",
              "      <td>2021</td>\n",
              "      <td>TV-MA</td>\n",
              "      <td>2 Seasons</td>\n",
              "      <td>International TV Shows, Romantic TV Shows, TV ...</td>\n",
              "      <td>In a city of coaching centers known to train I...</td>\n",
              "    </tr>\n",
              "  </tbody>\n",
              "</table>\n",
              "</div>\n",
              "      <button class=\"colab-df-convert\" onclick=\"convertToInteractive('df-3454935f-f19c-4c31-a122-d8b828dd2198')\"\n",
              "              title=\"Convert this dataframe to an interactive table.\"\n",
              "              style=\"display:none;\">\n",
              "        \n",
              "  <svg xmlns=\"http://www.w3.org/2000/svg\" height=\"24px\"viewBox=\"0 0 24 24\"\n",
              "       width=\"24px\">\n",
              "    <path d=\"M0 0h24v24H0V0z\" fill=\"none\"/>\n",
              "    <path d=\"M18.56 5.44l.94 2.06.94-2.06 2.06-.94-2.06-.94-.94-2.06-.94 2.06-2.06.94zm-11 1L8.5 8.5l.94-2.06 2.06-.94-2.06-.94L8.5 2.5l-.94 2.06-2.06.94zm10 10l.94 2.06.94-2.06 2.06-.94-2.06-.94-.94-2.06-.94 2.06-2.06.94z\"/><path d=\"M17.41 7.96l-1.37-1.37c-.4-.4-.92-.59-1.43-.59-.52 0-1.04.2-1.43.59L10.3 9.45l-7.72 7.72c-.78.78-.78 2.05 0 2.83L4 21.41c.39.39.9.59 1.41.59.51 0 1.02-.2 1.41-.59l7.78-7.78 2.81-2.81c.8-.78.8-2.07 0-2.86zM5.41 20L4 18.59l7.72-7.72 1.47 1.35L5.41 20z\"/>\n",
              "  </svg>\n",
              "      </button>\n",
              "      \n",
              "  <style>\n",
              "    .colab-df-container {\n",
              "      display:flex;\n",
              "      flex-wrap:wrap;\n",
              "      gap: 12px;\n",
              "    }\n",
              "\n",
              "    .colab-df-convert {\n",
              "      background-color: #E8F0FE;\n",
              "      border: none;\n",
              "      border-radius: 50%;\n",
              "      cursor: pointer;\n",
              "      display: none;\n",
              "      fill: #1967D2;\n",
              "      height: 32px;\n",
              "      padding: 0 0 0 0;\n",
              "      width: 32px;\n",
              "    }\n",
              "\n",
              "    .colab-df-convert:hover {\n",
              "      background-color: #E2EBFA;\n",
              "      box-shadow: 0px 1px 2px rgba(60, 64, 67, 0.3), 0px 1px 3px 1px rgba(60, 64, 67, 0.15);\n",
              "      fill: #174EA6;\n",
              "    }\n",
              "\n",
              "    [theme=dark] .colab-df-convert {\n",
              "      background-color: #3B4455;\n",
              "      fill: #D2E3FC;\n",
              "    }\n",
              "\n",
              "    [theme=dark] .colab-df-convert:hover {\n",
              "      background-color: #434B5C;\n",
              "      box-shadow: 0px 1px 3px 1px rgba(0, 0, 0, 0.15);\n",
              "      filter: drop-shadow(0px 1px 2px rgba(0, 0, 0, 0.3));\n",
              "      fill: #FFFFFF;\n",
              "    }\n",
              "  </style>\n",
              "\n",
              "      <script>\n",
              "        const buttonEl =\n",
              "          document.querySelector('#df-3454935f-f19c-4c31-a122-d8b828dd2198 button.colab-df-convert');\n",
              "        buttonEl.style.display =\n",
              "          google.colab.kernel.accessAllowed ? 'block' : 'none';\n",
              "\n",
              "        async function convertToInteractive(key) {\n",
              "          const element = document.querySelector('#df-3454935f-f19c-4c31-a122-d8b828dd2198');\n",
              "          const dataTable =\n",
              "            await google.colab.kernel.invokeFunction('convertToInteractive',\n",
              "                                                     [key], {});\n",
              "          if (!dataTable) return;\n",
              "\n",
              "          const docLinkHtml = 'Like what you see? Visit the ' +\n",
              "            '<a target=\"_blank\" href=https://colab.research.google.com/notebooks/data_table.ipynb>data table notebook</a>'\n",
              "            + ' to learn more about interactive tables.';\n",
              "          element.innerHTML = '';\n",
              "          dataTable['output_type'] = 'display_data';\n",
              "          await google.colab.output.renderOutput(dataTable, element);\n",
              "          const docLink = document.createElement('div');\n",
              "          docLink.innerHTML = docLinkHtml;\n",
              "          element.appendChild(docLink);\n",
              "        }\n",
              "      </script>\n",
              "    </div>\n",
              "  </div>\n",
              "  "
            ]
          },
          "metadata": {},
          "execution_count": 55
        }
      ]
    },
    {
      "cell_type": "markdown",
      "source": [
        "\n",
        "*   \"Title\" , \"director\" & \"cast\" columns needs to be unnested to make our analyis more accurate.\n",
        "*   Duration columns having data in minutes for movies and in seasons for TV shows\n",
        "\n",
        "\n",
        "\n"
      ],
      "metadata": {
        "id": "HWbPsMntIs4b"
      }
    },
    {
      "cell_type": "markdown",
      "source": [
        "***Attributes information:***\n",
        "\n",
        "*Show_id*: Unique ID for every Movie / Tv Show\n",
        "\n",
        "*Type:* Identifier - A Movie or TV Show\n",
        "\n",
        "*Title:* Title of the Movie / Tv Show\n",
        "\n",
        "*Director*: Director of the Movie\n",
        "\n",
        "*Cast*: Actors involved in the movie/show\n",
        "\n",
        "*Country*: Country where the movie/show was produced\n",
        "\n",
        "*Date_added:* Date it was added on Netflix\n",
        "\n",
        "*Release_year*: Actual Release year of the movie/show\n",
        "\n",
        "*Rating*: TV Rating of the movie/show\n",
        "\n",
        "*Duration*: Total Duration - in minutes or number of seasons\n",
        "\n",
        "Listed_in *italicized text*: Genre\n",
        "\n",
        "*Description*: The summary description\n"
      ],
      "metadata": {
        "id": "XhyathHPjDDe"
      }
    },
    {
      "cell_type": "code",
      "source": [
        "df.shape #checking the count of no. of rows and columns of dataset"
      ],
      "metadata": {
        "colab": {
          "base_uri": "https://localhost:8080/"
        },
        "id": "Pc_qGnsNfgvG",
        "outputId": "fe0b1172-73d2-483b-fcd0-c6990d53e8c7"
      },
      "execution_count": null,
      "outputs": [
        {
          "output_type": "execute_result",
          "data": {
            "text/plain": [
              "(8807, 12)"
            ]
          },
          "metadata": {},
          "execution_count": 56
        }
      ]
    },
    {
      "cell_type": "markdown",
      "source": [
        "*Dataset is having 8807 rows of data with 12 attributes.*"
      ],
      "metadata": {
        "id": "Zw4xEC3iA198"
      }
    },
    {
      "cell_type": "code",
      "source": [
        "df.info() #to check the data types of all columns and count of values in particular column."
      ],
      "metadata": {
        "colab": {
          "base_uri": "https://localhost:8080/"
        },
        "id": "oRQNA-6dfoM5",
        "outputId": "52b12476-d229-418a-b4f1-a3b1fdcb4a41"
      },
      "execution_count": null,
      "outputs": [
        {
          "output_type": "stream",
          "name": "stdout",
          "text": [
            "<class 'pandas.core.frame.DataFrame'>\n",
            "RangeIndex: 8807 entries, 0 to 8806\n",
            "Data columns (total 12 columns):\n",
            " #   Column        Non-Null Count  Dtype \n",
            "---  ------        --------------  ----- \n",
            " 0   show_id       8807 non-null   object\n",
            " 1   type          8807 non-null   object\n",
            " 2   title         8807 non-null   object\n",
            " 3   director      6173 non-null   object\n",
            " 4   cast          7982 non-null   object\n",
            " 5   country       7976 non-null   object\n",
            " 6   date_added    8797 non-null   object\n",
            " 7   release_year  8807 non-null   int64 \n",
            " 8   rating        8803 non-null   object\n",
            " 9   duration      8804 non-null   object\n",
            " 10  listed_in     8807 non-null   object\n",
            " 11  description   8807 non-null   object\n",
            "dtypes: int64(1), object(11)\n",
            "memory usage: 825.8+ KB\n"
          ]
        }
      ]
    },
    {
      "cell_type": "markdown",
      "source": [
        "\n",
        "*   We can see that type of rating and date_added columns is \"object\" which should be categorical and datetime. \n",
        "*   More no. of missing values in cast and director columns.\n",
        "\n",
        "\n",
        "\n",
        "\n"
      ],
      "metadata": {
        "id": "CP_0XOuojsCA"
      }
    },
    {
      "cell_type": "markdown",
      "source": [
        "# ***Statistical summary***"
      ],
      "metadata": {
        "id": "ahxMxI5GEdTm"
      }
    },
    {
      "cell_type": "code",
      "source": [
        "df.describe()  #to check statistical summary of numerical type data"
      ],
      "metadata": {
        "colab": {
          "base_uri": "https://localhost:8080/",
          "height": 300
        },
        "id": "E51f6JyGfp7P",
        "outputId": "b807563c-6d04-4eeb-eb1d-b3f33d6b1cf1"
      },
      "execution_count": null,
      "outputs": [
        {
          "output_type": "execute_result",
          "data": {
            "text/plain": [
              "       release_year\n",
              "count   8807.000000\n",
              "mean    2014.180198\n",
              "std        8.819312\n",
              "min     1925.000000\n",
              "25%     2013.000000\n",
              "50%     2017.000000\n",
              "75%     2019.000000\n",
              "max     2021.000000"
            ],
            "text/html": [
              "\n",
              "  <div id=\"df-e112fde1-757d-4ddc-93c5-db5303b71e55\">\n",
              "    <div class=\"colab-df-container\">\n",
              "      <div>\n",
              "<style scoped>\n",
              "    .dataframe tbody tr th:only-of-type {\n",
              "        vertical-align: middle;\n",
              "    }\n",
              "\n",
              "    .dataframe tbody tr th {\n",
              "        vertical-align: top;\n",
              "    }\n",
              "\n",
              "    .dataframe thead th {\n",
              "        text-align: right;\n",
              "    }\n",
              "</style>\n",
              "<table border=\"1\" class=\"dataframe\">\n",
              "  <thead>\n",
              "    <tr style=\"text-align: right;\">\n",
              "      <th></th>\n",
              "      <th>release_year</th>\n",
              "    </tr>\n",
              "  </thead>\n",
              "  <tbody>\n",
              "    <tr>\n",
              "      <th>count</th>\n",
              "      <td>8807.000000</td>\n",
              "    </tr>\n",
              "    <tr>\n",
              "      <th>mean</th>\n",
              "      <td>2014.180198</td>\n",
              "    </tr>\n",
              "    <tr>\n",
              "      <th>std</th>\n",
              "      <td>8.819312</td>\n",
              "    </tr>\n",
              "    <tr>\n",
              "      <th>min</th>\n",
              "      <td>1925.000000</td>\n",
              "    </tr>\n",
              "    <tr>\n",
              "      <th>25%</th>\n",
              "      <td>2013.000000</td>\n",
              "    </tr>\n",
              "    <tr>\n",
              "      <th>50%</th>\n",
              "      <td>2017.000000</td>\n",
              "    </tr>\n",
              "    <tr>\n",
              "      <th>75%</th>\n",
              "      <td>2019.000000</td>\n",
              "    </tr>\n",
              "    <tr>\n",
              "      <th>max</th>\n",
              "      <td>2021.000000</td>\n",
              "    </tr>\n",
              "  </tbody>\n",
              "</table>\n",
              "</div>\n",
              "      <button class=\"colab-df-convert\" onclick=\"convertToInteractive('df-e112fde1-757d-4ddc-93c5-db5303b71e55')\"\n",
              "              title=\"Convert this dataframe to an interactive table.\"\n",
              "              style=\"display:none;\">\n",
              "        \n",
              "  <svg xmlns=\"http://www.w3.org/2000/svg\" height=\"24px\"viewBox=\"0 0 24 24\"\n",
              "       width=\"24px\">\n",
              "    <path d=\"M0 0h24v24H0V0z\" fill=\"none\"/>\n",
              "    <path d=\"M18.56 5.44l.94 2.06.94-2.06 2.06-.94-2.06-.94-.94-2.06-.94 2.06-2.06.94zm-11 1L8.5 8.5l.94-2.06 2.06-.94-2.06-.94L8.5 2.5l-.94 2.06-2.06.94zm10 10l.94 2.06.94-2.06 2.06-.94-2.06-.94-.94-2.06-.94 2.06-2.06.94z\"/><path d=\"M17.41 7.96l-1.37-1.37c-.4-.4-.92-.59-1.43-.59-.52 0-1.04.2-1.43.59L10.3 9.45l-7.72 7.72c-.78.78-.78 2.05 0 2.83L4 21.41c.39.39.9.59 1.41.59.51 0 1.02-.2 1.41-.59l7.78-7.78 2.81-2.81c.8-.78.8-2.07 0-2.86zM5.41 20L4 18.59l7.72-7.72 1.47 1.35L5.41 20z\"/>\n",
              "  </svg>\n",
              "      </button>\n",
              "      \n",
              "  <style>\n",
              "    .colab-df-container {\n",
              "      display:flex;\n",
              "      flex-wrap:wrap;\n",
              "      gap: 12px;\n",
              "    }\n",
              "\n",
              "    .colab-df-convert {\n",
              "      background-color: #E8F0FE;\n",
              "      border: none;\n",
              "      border-radius: 50%;\n",
              "      cursor: pointer;\n",
              "      display: none;\n",
              "      fill: #1967D2;\n",
              "      height: 32px;\n",
              "      padding: 0 0 0 0;\n",
              "      width: 32px;\n",
              "    }\n",
              "\n",
              "    .colab-df-convert:hover {\n",
              "      background-color: #E2EBFA;\n",
              "      box-shadow: 0px 1px 2px rgba(60, 64, 67, 0.3), 0px 1px 3px 1px rgba(60, 64, 67, 0.15);\n",
              "      fill: #174EA6;\n",
              "    }\n",
              "\n",
              "    [theme=dark] .colab-df-convert {\n",
              "      background-color: #3B4455;\n",
              "      fill: #D2E3FC;\n",
              "    }\n",
              "\n",
              "    [theme=dark] .colab-df-convert:hover {\n",
              "      background-color: #434B5C;\n",
              "      box-shadow: 0px 1px 3px 1px rgba(0, 0, 0, 0.15);\n",
              "      filter: drop-shadow(0px 1px 2px rgba(0, 0, 0, 0.3));\n",
              "      fill: #FFFFFF;\n",
              "    }\n",
              "  </style>\n",
              "\n",
              "      <script>\n",
              "        const buttonEl =\n",
              "          document.querySelector('#df-e112fde1-757d-4ddc-93c5-db5303b71e55 button.colab-df-convert');\n",
              "        buttonEl.style.display =\n",
              "          google.colab.kernel.accessAllowed ? 'block' : 'none';\n",
              "\n",
              "        async function convertToInteractive(key) {\n",
              "          const element = document.querySelector('#df-e112fde1-757d-4ddc-93c5-db5303b71e55');\n",
              "          const dataTable =\n",
              "            await google.colab.kernel.invokeFunction('convertToInteractive',\n",
              "                                                     [key], {});\n",
              "          if (!dataTable) return;\n",
              "\n",
              "          const docLinkHtml = 'Like what you see? Visit the ' +\n",
              "            '<a target=\"_blank\" href=https://colab.research.google.com/notebooks/data_table.ipynb>data table notebook</a>'\n",
              "            + ' to learn more about interactive tables.';\n",
              "          element.innerHTML = '';\n",
              "          dataTable['output_type'] = 'display_data';\n",
              "          await google.colab.output.renderOutput(dataTable, element);\n",
              "          const docLink = document.createElement('div');\n",
              "          docLink.innerHTML = docLinkHtml;\n",
              "          element.appendChild(docLink);\n",
              "        }\n",
              "      </script>\n",
              "    </div>\n",
              "  </div>\n",
              "  "
            ]
          },
          "metadata": {},
          "execution_count": 58
        }
      ]
    },
    {
      "cell_type": "markdown",
      "source": [
        "\n",
        "\n",
        "*   25% of the tolal data belongs to year 2019-2021\n",
        "*   25% of the tolal data belongs to year 1925-2013\n",
        "\n",
        "***Insight*** -->Netflix should add latest Movies and TV shows to attract more customers."
      ],
      "metadata": {
        "id": "gHteuRzHkXu2"
      }
    },
    {
      "cell_type": "code",
      "source": [
        "df.describe(include = object) #to check statistical summary of categorical type data"
      ],
      "metadata": {
        "colab": {
          "base_uri": "https://localhost:8080/",
          "height": 236
        },
        "id": "3k64AFYEfsTk",
        "outputId": "71d3c0cb-1047-4fb4-84d8-f2ca14cc1d76"
      },
      "execution_count": null,
      "outputs": [
        {
          "output_type": "execute_result",
          "data": {
            "text/plain": [
              "       show_id   type                 title       director  \\\n",
              "count     8807   8807                  8807           6173   \n",
              "unique    8807      2                  8807           4528   \n",
              "top         s1  Movie  Dick Johnson Is Dead  Rajiv Chilaka   \n",
              "freq         1   6131                     1             19   \n",
              "\n",
              "                      cast        country       date_added rating  duration  \\\n",
              "count                 7982           7976             8797   8803      8804   \n",
              "unique                7692            748             1767     17       220   \n",
              "top     David Attenborough  United States  January 1, 2020  TV-MA  1 Season   \n",
              "freq                    19           2818              109   3207      1793   \n",
              "\n",
              "                           listed_in  \\\n",
              "count                           8807   \n",
              "unique                           514   \n",
              "top     Dramas, International Movies   \n",
              "freq                             362   \n",
              "\n",
              "                                              description  \n",
              "count                                                8807  \n",
              "unique                                               8775  \n",
              "top     Paranormal activity at a lush, abandoned prope...  \n",
              "freq                                                    4  "
            ],
            "text/html": [
              "\n",
              "  <div id=\"df-4f1c1d29-3c60-4c06-80a1-0237ff22cb94\">\n",
              "    <div class=\"colab-df-container\">\n",
              "      <div>\n",
              "<style scoped>\n",
              "    .dataframe tbody tr th:only-of-type {\n",
              "        vertical-align: middle;\n",
              "    }\n",
              "\n",
              "    .dataframe tbody tr th {\n",
              "        vertical-align: top;\n",
              "    }\n",
              "\n",
              "    .dataframe thead th {\n",
              "        text-align: right;\n",
              "    }\n",
              "</style>\n",
              "<table border=\"1\" class=\"dataframe\">\n",
              "  <thead>\n",
              "    <tr style=\"text-align: right;\">\n",
              "      <th></th>\n",
              "      <th>show_id</th>\n",
              "      <th>type</th>\n",
              "      <th>title</th>\n",
              "      <th>director</th>\n",
              "      <th>cast</th>\n",
              "      <th>country</th>\n",
              "      <th>date_added</th>\n",
              "      <th>rating</th>\n",
              "      <th>duration</th>\n",
              "      <th>listed_in</th>\n",
              "      <th>description</th>\n",
              "    </tr>\n",
              "  </thead>\n",
              "  <tbody>\n",
              "    <tr>\n",
              "      <th>count</th>\n",
              "      <td>8807</td>\n",
              "      <td>8807</td>\n",
              "      <td>8807</td>\n",
              "      <td>6173</td>\n",
              "      <td>7982</td>\n",
              "      <td>7976</td>\n",
              "      <td>8797</td>\n",
              "      <td>8803</td>\n",
              "      <td>8804</td>\n",
              "      <td>8807</td>\n",
              "      <td>8807</td>\n",
              "    </tr>\n",
              "    <tr>\n",
              "      <th>unique</th>\n",
              "      <td>8807</td>\n",
              "      <td>2</td>\n",
              "      <td>8807</td>\n",
              "      <td>4528</td>\n",
              "      <td>7692</td>\n",
              "      <td>748</td>\n",
              "      <td>1767</td>\n",
              "      <td>17</td>\n",
              "      <td>220</td>\n",
              "      <td>514</td>\n",
              "      <td>8775</td>\n",
              "    </tr>\n",
              "    <tr>\n",
              "      <th>top</th>\n",
              "      <td>s1</td>\n",
              "      <td>Movie</td>\n",
              "      <td>Dick Johnson Is Dead</td>\n",
              "      <td>Rajiv Chilaka</td>\n",
              "      <td>David Attenborough</td>\n",
              "      <td>United States</td>\n",
              "      <td>January 1, 2020</td>\n",
              "      <td>TV-MA</td>\n",
              "      <td>1 Season</td>\n",
              "      <td>Dramas, International Movies</td>\n",
              "      <td>Paranormal activity at a lush, abandoned prope...</td>\n",
              "    </tr>\n",
              "    <tr>\n",
              "      <th>freq</th>\n",
              "      <td>1</td>\n",
              "      <td>6131</td>\n",
              "      <td>1</td>\n",
              "      <td>19</td>\n",
              "      <td>19</td>\n",
              "      <td>2818</td>\n",
              "      <td>109</td>\n",
              "      <td>3207</td>\n",
              "      <td>1793</td>\n",
              "      <td>362</td>\n",
              "      <td>4</td>\n",
              "    </tr>\n",
              "  </tbody>\n",
              "</table>\n",
              "</div>\n",
              "      <button class=\"colab-df-convert\" onclick=\"convertToInteractive('df-4f1c1d29-3c60-4c06-80a1-0237ff22cb94')\"\n",
              "              title=\"Convert this dataframe to an interactive table.\"\n",
              "              style=\"display:none;\">\n",
              "        \n",
              "  <svg xmlns=\"http://www.w3.org/2000/svg\" height=\"24px\"viewBox=\"0 0 24 24\"\n",
              "       width=\"24px\">\n",
              "    <path d=\"M0 0h24v24H0V0z\" fill=\"none\"/>\n",
              "    <path d=\"M18.56 5.44l.94 2.06.94-2.06 2.06-.94-2.06-.94-.94-2.06-.94 2.06-2.06.94zm-11 1L8.5 8.5l.94-2.06 2.06-.94-2.06-.94L8.5 2.5l-.94 2.06-2.06.94zm10 10l.94 2.06.94-2.06 2.06-.94-2.06-.94-.94-2.06-.94 2.06-2.06.94z\"/><path d=\"M17.41 7.96l-1.37-1.37c-.4-.4-.92-.59-1.43-.59-.52 0-1.04.2-1.43.59L10.3 9.45l-7.72 7.72c-.78.78-.78 2.05 0 2.83L4 21.41c.39.39.9.59 1.41.59.51 0 1.02-.2 1.41-.59l7.78-7.78 2.81-2.81c.8-.78.8-2.07 0-2.86zM5.41 20L4 18.59l7.72-7.72 1.47 1.35L5.41 20z\"/>\n",
              "  </svg>\n",
              "      </button>\n",
              "      \n",
              "  <style>\n",
              "    .colab-df-container {\n",
              "      display:flex;\n",
              "      flex-wrap:wrap;\n",
              "      gap: 12px;\n",
              "    }\n",
              "\n",
              "    .colab-df-convert {\n",
              "      background-color: #E8F0FE;\n",
              "      border: none;\n",
              "      border-radius: 50%;\n",
              "      cursor: pointer;\n",
              "      display: none;\n",
              "      fill: #1967D2;\n",
              "      height: 32px;\n",
              "      padding: 0 0 0 0;\n",
              "      width: 32px;\n",
              "    }\n",
              "\n",
              "    .colab-df-convert:hover {\n",
              "      background-color: #E2EBFA;\n",
              "      box-shadow: 0px 1px 2px rgba(60, 64, 67, 0.3), 0px 1px 3px 1px rgba(60, 64, 67, 0.15);\n",
              "      fill: #174EA6;\n",
              "    }\n",
              "\n",
              "    [theme=dark] .colab-df-convert {\n",
              "      background-color: #3B4455;\n",
              "      fill: #D2E3FC;\n",
              "    }\n",
              "\n",
              "    [theme=dark] .colab-df-convert:hover {\n",
              "      background-color: #434B5C;\n",
              "      box-shadow: 0px 1px 3px 1px rgba(0, 0, 0, 0.15);\n",
              "      filter: drop-shadow(0px 1px 2px rgba(0, 0, 0, 0.3));\n",
              "      fill: #FFFFFF;\n",
              "    }\n",
              "  </style>\n",
              "\n",
              "      <script>\n",
              "        const buttonEl =\n",
              "          document.querySelector('#df-4f1c1d29-3c60-4c06-80a1-0237ff22cb94 button.colab-df-convert');\n",
              "        buttonEl.style.display =\n",
              "          google.colab.kernel.accessAllowed ? 'block' : 'none';\n",
              "\n",
              "        async function convertToInteractive(key) {\n",
              "          const element = document.querySelector('#df-4f1c1d29-3c60-4c06-80a1-0237ff22cb94');\n",
              "          const dataTable =\n",
              "            await google.colab.kernel.invokeFunction('convertToInteractive',\n",
              "                                                     [key], {});\n",
              "          if (!dataTable) return;\n",
              "\n",
              "          const docLinkHtml = 'Like what you see? Visit the ' +\n",
              "            '<a target=\"_blank\" href=https://colab.research.google.com/notebooks/data_table.ipynb>data table notebook</a>'\n",
              "            + ' to learn more about interactive tables.';\n",
              "          element.innerHTML = '';\n",
              "          dataTable['output_type'] = 'display_data';\n",
              "          await google.colab.output.renderOutput(dataTable, element);\n",
              "          const docLink = document.createElement('div');\n",
              "          docLink.innerHTML = docLinkHtml;\n",
              "          element.appendChild(docLink);\n",
              "        }\n",
              "      </script>\n",
              "    </div>\n",
              "  </div>\n",
              "  "
            ]
          },
          "metadata": {},
          "execution_count": 59
        }
      ]
    },
    {
      "cell_type": "markdown",
      "source": [
        "**Conclusion :-**\n",
        "\n",
        "*   Show_id and Title are the unique factors.\n",
        "*   \"Type\" and \"rating\" column needs to be changed to categorical data\n",
        "*   \"United States\" is having the maximun content available.\n",
        "\n",
        "\n",
        "\n",
        "\n",
        "\n"
      ],
      "metadata": {
        "id": "xluo8_Ib6k8y"
      }
    },
    {
      "cell_type": "markdown",
      "source": [
        "# ***Missing value detection***"
      ],
      "metadata": {
        "id": "H69YI7NbL5gz"
      }
    },
    {
      "cell_type": "code",
      "source": [
        "df.isnull().sum() #checking count of null values per column."
      ],
      "metadata": {
        "colab": {
          "base_uri": "https://localhost:8080/"
        },
        "id": "Nvkw5gVdfuEr",
        "outputId": "b61d7f04-d127-4aa4-87d4-270e74725279"
      },
      "execution_count": null,
      "outputs": [
        {
          "output_type": "execute_result",
          "data": {
            "text/plain": [
              "show_id            0\n",
              "type               0\n",
              "title              0\n",
              "director        2634\n",
              "cast             825\n",
              "country          831\n",
              "date_added        10\n",
              "release_year       0\n",
              "rating             4\n",
              "duration           3\n",
              "listed_in          0\n",
              "description        0\n",
              "dtype: int64"
            ]
          },
          "metadata": {},
          "execution_count": 60
        }
      ]
    },
    {
      "cell_type": "markdown",
      "source": [
        "\n",
        "*  Lot of missing data in director, cast and country columns as compared to others.\n",
        "\n",
        "\n"
      ],
      "metadata": {
        "id": "FyG3wEctKXzj"
      }
    },
    {
      "cell_type": "code",
      "source": [
        "for col in df:\n",
        "  null_count = df[col].isnull().sum() / len(df) *100\n",
        "  print(col , \"-->\" ,null_count)"
      ],
      "metadata": {
        "colab": {
          "base_uri": "https://localhost:8080/"
        },
        "id": "VCirPY0Ht7ns",
        "outputId": "f42f6fdb-9af4-45a7-ca33-e15be698ed60"
      },
      "execution_count": null,
      "outputs": [
        {
          "output_type": "stream",
          "name": "stdout",
          "text": [
            "show_id --> 0.0\n",
            "type --> 0.0\n",
            "title --> 0.0\n",
            "director --> 29.908027705234474\n",
            "cast --> 9.367548540933349\n",
            "country --> 9.435676166685592\n",
            "date_added --> 0.11354604292040424\n",
            "release_year --> 0.0\n",
            "rating --> 0.04541841716816169\n",
            "duration --> 0.034063812876121265\n",
            "listed_in --> 0.0\n",
            "description --> 0.0\n"
          ]
        }
      ]
    },
    {
      "cell_type": "markdown",
      "source": [
        "As we can we 30% of Director columns value are missing , we cant drop this much data. We will fill these columns with \"Unknown\" "
      ],
      "metadata": {
        "id": "ifSoMzd-u5l7"
      }
    },
    {
      "cell_type": "code",
      "source": [
        "df[[\"director\",\"cast\",\"country\"]] = df[[\"director\",\"cast\",\"country\"]].fillna(\"Unknown\") #Fillling up the missing values"
      ],
      "metadata": {
        "id": "HetWLYmwfwJk"
      },
      "execution_count": null,
      "outputs": []
    },
    {
      "cell_type": "code",
      "source": [
        "df.isnull().sum()"
      ],
      "metadata": {
        "colab": {
          "base_uri": "https://localhost:8080/"
        },
        "id": "zUlgW6ygfzRy",
        "outputId": "fd058b7e-e4fd-49c4-c63f-6c2035313afa"
      },
      "execution_count": null,
      "outputs": [
        {
          "output_type": "execute_result",
          "data": {
            "text/plain": [
              "show_id          0\n",
              "type             0\n",
              "title            0\n",
              "director         0\n",
              "cast             0\n",
              "country          0\n",
              "date_added      10\n",
              "release_year     0\n",
              "rating           4\n",
              "duration         3\n",
              "listed_in        0\n",
              "description      0\n",
              "dtype: int64"
            ]
          },
          "metadata": {},
          "execution_count": 63
        }
      ]
    },
    {
      "cell_type": "markdown",
      "source": [
        "We will drop these rows in which date added values are missing when we will do the analysis related to date added"
      ],
      "metadata": {
        "id": "LfL8Na1PAP7q"
      }
    },
    {
      "cell_type": "code",
      "source": [
        "df[\"rating\"].value_counts() #checking unique values in rating columns."
      ],
      "metadata": {
        "colab": {
          "base_uri": "https://localhost:8080/"
        },
        "id": "726DPpCHf2nb",
        "outputId": "43a6c7c2-6958-4d5e-b6eb-00f139377624"
      },
      "execution_count": null,
      "outputs": [
        {
          "output_type": "execute_result",
          "data": {
            "text/plain": [
              "TV-MA       3207\n",
              "TV-14       2160\n",
              "TV-PG        863\n",
              "R            799\n",
              "PG-13        490\n",
              "TV-Y7        334\n",
              "TV-Y         307\n",
              "PG           287\n",
              "TV-G         220\n",
              "NR            80\n",
              "G             41\n",
              "TV-Y7-FV       6\n",
              "NC-17          3\n",
              "UR             3\n",
              "74 min         1\n",
              "84 min         1\n",
              "66 min         1\n",
              "Name: rating, dtype: int64"
            ]
          },
          "metadata": {},
          "execution_count": 64
        }
      ]
    },
    {
      "cell_type": "markdown",
      "source": [
        "As we can clearly see that last three values of rating should be in duration columns. "
      ],
      "metadata": {
        "id": "Upn5EZv5C75Y"
      }
    },
    {
      "cell_type": "markdown",
      "source": [
        "***Shifting of data to the right columns***"
      ],
      "metadata": {
        "id": "aHZX_ax2MBZS"
      }
    },
    {
      "cell_type": "code",
      "source": [
        "df.loc[(df[\"rating\"] == \"74 min\") | (df[\"rating\"] == \"84 min\") | (df[\"rating\"] == \"66 min\")]\n",
        "df[\"duration\"][[5541,5794,5813]] = df[\"rating\"][[5541,5794,5813]]\n",
        "df[\"rating\"][[5541,5794,5813]] = \"Nan\""
      ],
      "metadata": {
        "id": "GD0wsBVrf6jI"
      },
      "execution_count": null,
      "outputs": []
    },
    {
      "cell_type": "code",
      "source": [
        "df[\"rating\"].value_counts() #checking the count of each category. "
      ],
      "metadata": {
        "colab": {
          "base_uri": "https://localhost:8080/"
        },
        "id": "o7gN5TuLgEvy",
        "outputId": "6a82fdca-3622-446b-f04c-8bc2958b7a2b"
      },
      "execution_count": null,
      "outputs": [
        {
          "output_type": "execute_result",
          "data": {
            "text/plain": [
              "TV-MA       3207\n",
              "TV-14       2160\n",
              "TV-PG        863\n",
              "R            799\n",
              "PG-13        490\n",
              "TV-Y7        334\n",
              "TV-Y         307\n",
              "PG           287\n",
              "TV-G         220\n",
              "NR            80\n",
              "G             41\n",
              "TV-Y7-FV       6\n",
              "NC-17          3\n",
              "Nan            3\n",
              "UR             3\n",
              "Name: rating, dtype: int64"
            ]
          },
          "metadata": {},
          "execution_count": 66
        }
      ]
    },
    {
      "cell_type": "code",
      "source": [
        "#Conversion of categorical attributes to 'category' and 'datetime'\n",
        "df[\"date_added\"] = pd.to_datetime(df[\"date_added\"])\n",
        "df =df.astype({\"type\" : \"category\", \"rating\" : \"category\"})"
      ],
      "metadata": {
        "id": "wx2Tr2K3gHg6"
      },
      "execution_count": null,
      "outputs": []
    },
    {
      "cell_type": "markdown",
      "source": [
        "# ***Univariate Analysis***"
      ],
      "metadata": {
        "id": "27harNywNLtU"
      }
    },
    {
      "cell_type": "code",
      "source": [
        "df_datetime = df.copy()\n",
        "df_datetime['Year'] = df.date_added.dt.year  #adding new columns to the dataframe --> year , month , weekday\n",
        "df_datetime['month'] = df.date_added.dt.month\n",
        "df_datetime['day'] = df.date_added.dt.day_name()"
      ],
      "metadata": {
        "id": "-x5zzrED6EB_"
      },
      "execution_count": null,
      "outputs": []
    },
    {
      "cell_type": "code",
      "source": [
        "sns.countplot(x = \"type\" , data = df_datetime) #countplot to count the no of movies and tv shows available.\n",
        "plt.title(\"No of movies and TV series\")\n",
        "plt.show()"
      ],
      "metadata": {
        "colab": {
          "base_uri": "https://localhost:8080/",
          "height": 295
        },
        "id": "hioceQdkMzoS",
        "outputId": "6f87ae0a-965e-4983-88bc-6e5d8045a6f2"
      },
      "execution_count": null,
      "outputs": [
        {
          "output_type": "display_data",
          "data": {
            "text/plain": [
              "<Figure size 432x288 with 1 Axes>"
            ],
            "image/png": "[encoded data removed]"
          },
          "metadata": {
            "needs_background": "light"
          }
        }
      ]
    },
    {
      "cell_type": "markdown",
      "source": [
        "Immense difference between the count of no of movies and TV show."
      ],
      "metadata": {
        "id": "e38KzyZ_GOjW"
      }
    },
    {
      "cell_type": "code",
      "source": [
        "plt.figure(figsize=(20,8))\n",
        "duration_df = df.loc[df[\"duration\"].str.contains(\"min\")== True][\"duration\"].apply(lambda x: x.split()[0]).astype(int)  # splting the movies duration as its type is string , extracting the numeri value and converting it into int type\n",
        "plt.subplot(1,2,1) #subplots to make the data look easy for comparison.\n",
        "sns.boxplot(duration_df , color = \"maroon\")\n",
        "plt.title(\"Distribution of duration of movies\")\n",
        "duration_seson_df = df.loc[df[\"duration\"].str.contains(\"Season\")== True][\"duration\"].apply(lambda x: x.split()[0]).astype(int)\n",
        "plt.subplot(1,2,2)\n",
        "sns.boxplot(duration_seson_df , color = \"maroon\")\n",
        "plt.title(\"Distribution of no of seasons in TV show\")\n",
        "plt.show()"
      ],
      "metadata": {
        "colab": {
          "base_uri": "https://localhost:8080/",
          "height": 513
        },
        "id": "4d-zzCqwM5AP",
        "outputId": "7fbb95a4-c29b-40d8-c58b-864847d21d0a"
      },
      "execution_count": null,
      "outputs": [
        {
          "output_type": "display_data",
          "data": {
            "text/plain": [
              "<Figure size 1440x576 with 2 Axes>"
            ],
            "image/png": "[encoded data removed]"
          },
          "metadata": {
            "needs_background": "light"
          }
        }
      ]
    },
    {
      "cell_type": "markdown",
      "source": [
        "**Conclusion** - \n",
        "*  Average duration of movies are around 100 min\n",
        "*  TV shows mostly are having 1 or 2 seasons.\n",
        "*  There are lot of outliers present in movies as compare to TV shows\n",
        "\n",
        "\n",
        "\n"
      ],
      "metadata": {
        "id": "4C9WstxDLZVd"
      }
    },
    {
      "cell_type": "code",
      "source": [
        "df_TV_season = df.loc[df[\"duration\"].str.contains(\"Season\")== True , \"duration\" ].value_counts().reset_index()[:10]  #filtering out top 10 values of TV shows using string. \n",
        "df_TV_season.rename(columns = {\"index\" : \"No_of_seasons\" , \"duration\" : \"Count\"}, inplace = True) #renaming the columns \n",
        "plt.figure(figsize=(20,8))\n",
        "sns.barplot(y = \"No_of_seasons\" , x = \"Count\" , data = df_TV_season)\n",
        "plt.title(\"Count of TV shows with their no of season\")\n",
        "plt.show()"
      ],
      "metadata": {
        "colab": {
          "base_uri": "https://localhost:8080/",
          "height": 513
        },
        "id": "esDOH27PNDb9",
        "outputId": "ed485f5a-745e-433f-d765-9e89a44b9681"
      },
      "execution_count": null,
      "outputs": [
        {
          "output_type": "display_data",
          "data": {
            "text/plain": [
              "<Figure size 1440x576 with 1 Axes>"
            ],
            "image/png": "[encoded data removed]"
          },
          "metadata": {
            "needs_background": "light"
          }
        }
      ]
    },
    {
      "cell_type": "markdown",
      "source": [
        "Mostly TV shows have only one season. "
      ],
      "metadata": {
        "id": "eR3aeQxjYmmB"
      }
    },
    {
      "cell_type": "markdown",
      "source": [
        "# ***Bivariate Analysis***"
      ],
      "metadata": {
        "id": "mgVFTAxbNFxv"
      }
    },
    {
      "cell_type": "code",
      "source": [
        "df_datetime = pd.DataFrame(df)\n",
        "df_datetime['Year'] = df.date_added.dt.year\n",
        "df_datetime['month'] = df.date_added.dt.month \n",
        "df_datetime['day'] = df.date_added.dt.day_name()\n",
        "df_datetime_month = df_datetime.sort_values(by =\"month\")\n",
        "df_datetime_month['month_name'] = df.date_added.dt.month_name()"
      ],
      "metadata": {
        "id": "FHJLmPT4gKTI"
      },
      "execution_count": null,
      "outputs": []
    },
    {
      "cell_type": "markdown",
      "source": [
        "**Analysis of number of content added on Netflix over the period**"
      ],
      "metadata": {
        "id": "Wk-qlT7tO6Ea"
      }
    },
    {
      "cell_type": "code",
      "source": [
        "plt.figure(figsize=(20,8)) #defining fig size fot the graph image\n",
        "sns.countplot(x = \"month_name\" , data = df_datetime_month , hue = \"type\")\n",
        "plt.title(\"No of movies and TV series added monthwise\") #title name of the plot\n",
        "plt.legend(loc=(1.01,0.5))\n",
        "plt.show()"
      ],
      "metadata": {
        "colab": {
          "base_uri": "https://localhost:8080/",
          "height": 514
        },
        "id": "7M5QweI3gS1r",
        "outputId": "33ff24b0-3422-40a1-ca85-a68e4a2b1407"
      },
      "execution_count": null,
      "outputs": [
        {
          "output_type": "display_data",
          "data": {
            "text/plain": [
              "<Figure size 1440x576 with 1 Axes>"
            ],
            "image/png": "[encoded data removed]"
          },
          "metadata": {
            "needs_background": "light"
          }
        }
      ]
    },
    {
      "cell_type": "markdown",
      "source": [
        "***Conclusion :-***\n",
        "*  July and December are the months when most content was added becasue no of TV shows durind these two months are maximum among all.\n",
        "*  No of movies added per month is greater then no of TV shows added per month.\n",
        "\n"
      ],
      "metadata": {
        "id": "0fJM45ZxY2n9"
      }
    },
    {
      "cell_type": "code",
      "source": [
        "plt.figure(figsize=(20,8))\n",
        "df_year = df.loc[df['release_year']>2000] #used masked to get out data for movies and TV shows released after 2000\n",
        "sns.countplot(x='release_year', data = df_year, hue='type')\n",
        "plt.title(\"No of movies and TV series added yearwise\")\n",
        "plt.show()"
      ],
      "metadata": {
        "colab": {
          "base_uri": "https://localhost:8080/",
          "height": 514
        },
        "id": "OYs7hDIZhwqJ",
        "outputId": "b293cd7f-5052-49b8-bd38-f03185e01315"
      },
      "execution_count": null,
      "outputs": [
        {
          "output_type": "display_data",
          "data": {
            "text/plain": [
              "<Figure size 1440x576 with 1 Axes>"
            ],
            "image/png": "[encoded data removed]"
          },
          "metadata": {
            "needs_background": "light"
          }
        }
      ]
    },
    {
      "cell_type": "markdown",
      "source": [
        "***Conclusion :-***\n",
        "\n",
        "\n",
        "*   In 2020 , maximum no. of TV shows are added followed by 2019 & 2021.\n",
        "*   More no of movies added on Netflix after \"2015\"\n",
        "*   We can see in 2021 count of movies add drop significanty  ,maybe due to COVID pandemic.\n",
        "\n",
        "\n",
        "\n"
      ],
      "metadata": {
        "id": "ttX6-J_TplAl"
      }
    },
    {
      "cell_type": "code",
      "source": [
        "plt.figure(figsize=(15,8))\n",
        "sns.countplot(x = \"day\" , data = df_datetime , hue = \"type\" ,  order=[\"Monday\" , \"Tuesday\" , \"Wednesday\", \"Thursday\", \"Friday\", \"Saturday\" ,\"Sunday\"])\n",
        "plt.title(\"No of movies and TV series added daywise\")\n",
        "plt.show()"
      ],
      "metadata": {
        "colab": {
          "base_uri": "https://localhost:8080/",
          "height": 513
        },
        "id": "HlnV26yyh7xT",
        "outputId": "5d8a31e8-4611-479e-bdff-1b0ebbecf631"
      },
      "execution_count": null,
      "outputs": [
        {
          "output_type": "display_data",
          "data": {
            "text/plain": [
              "<Figure size 1080x576 with 1 Axes>"
            ],
            "image/png": "[encoded data removed]"
          },
          "metadata": {
            "needs_background": "light"
          }
        }
      ]
    },
    {
      "cell_type": "markdown",
      "source": [
        "***Conclusion :-***  Most of the content added on netflix on \"Friday\" followed by Thursday as weekend appraches after these days.\n",
        "\n",
        "\n",
        "\n"
      ],
      "metadata": {
        "id": "1XWainsHvjcO"
      }
    },
    {
      "cell_type": "code",
      "source": [
        "print('PG-13 -----> Parental Guidance with Adult Themes[Parental Guidance]',\n",
        "'TV-MA -----> Mature Audience[Only for Adults]',\n",
        "'PG -----> Parental Guidance without Adult Themes[Parental Guidance]',\n",
        "'TV-14 -----> Contents with Parents strongly cautioned.',\n",
        "'TV-PG -----> Parental guide suggested[Parental Guidance]',\n",
        "'TV-Y -----> Children suited content[General Audience & Kids]',\n",
        "'TV-Y7 -----> Children of age 7 and older[General Audience & Kids]',\n",
        "'R -----> Strictly for Adults[Only for Adults]',\n",
        "'TV-G -----> Suitable for all audiences[General Audience & Kids]',\n",
        "'G -----> General Audience films[General Audience & Kids]',\n",
        "'NC-17 -----> No one seventeen and under admitted[Only for Adults]',\n",
        "'NR -----> Not rated movies[Not Rated]',\n",
        "'TV-Y7-FV -----> Children of age 7 and older with fantasy violence[General Audience & Kids]',\n",
        "'UR -----> recut version of rated movie[Not Rated]', sep = '\\n')\n",
        "\n",
        "df_rating = df[df[\"rating\"].isnull()== False]\n",
        "df_rating.reset_index(inplace = True)\n",
        "plt.figure(figsize=(20,8))\n",
        "sns.countplot(x =\"rating\" , data = df_rating , hue = \"type\")\n",
        "plt.show()"
      ],
      "metadata": {
        "colab": {
          "base_uri": "https://localhost:8080/",
          "height": 755
        },
        "id": "544g2k3jj_Dh",
        "outputId": "86f021e3-3694-4c13-daf6-1e8bb06b8b41"
      },
      "execution_count": null,
      "outputs": [
        {
          "output_type": "stream",
          "name": "stdout",
          "text": [
            "PG-13 -----> Parental Guidance with Adult Themes[Parental Guidance]\n",
            "TV-MA -----> Mature Audience[Only for Adults]\n",
            "PG -----> Parental Guidance without Adult Themes[Parental Guidance]\n",
            "TV-14 -----> Contents with Parents strongly cautioned.\n",
            "TV-PG -----> Parental guide suggested[Parental Guidance]\n",
            "TV-Y -----> Children suited content[General Audience & Kids]\n",
            "TV-Y7 -----> Children of age 7 and older[General Audience & Kids]\n",
            "R -----> Strictly for Adults[Only for Adults]\n",
            "TV-G -----> Suitable for all audiences[General Audience & Kids]\n",
            "G -----> General Audience films[General Audience & Kids]\n",
            "NC-17 -----> No one seventeen and under admitted[Only for Adults]\n",
            "NR -----> Not rated movies[Not Rated]\n",
            "TV-Y7-FV -----> Children of age 7 and older with fantasy violence[General Audience & Kids]\n",
            "UR -----> recut version of rated movie[Not Rated]\n"
          ]
        },
        {
          "output_type": "display_data",
          "data": {
            "text/plain": [
              "<Figure size 1440x576 with 1 Axes>"
            ],
            "image/png": "[encoded data removed]"
          },
          "metadata": {
            "needs_background": "light"
          }
        }
      ]
    },
    {
      "cell_type": "markdown",
      "source": [
        "# Conclusion :-\n",
        "*  Mostly TV shows and movies are belongs to TV-MA & TV-14 rating.  \n",
        "*  Mostly content available on netflix is for adults and teenagers.\n",
        "\n"
      ],
      "metadata": {
        "id": "r3ivMnt2wtTM"
      }
    },
    {
      "cell_type": "code",
      "source": [
        "df_yearwise_trend = pd.DataFrame(df.groupby(\"release_year\")[\"type\"].value_counts())  #grouping of the content by year forr movies and TV shows\n",
        "df_yearwise_trend.reset_index(inplace = True)\n",
        "df_content_count =df_yearwise_trend.pivot(index = \"release_year\",\n",
        "                        columns = \"level_1\",\n",
        "                        values =\"type\")\n",
        "df_content_count.reset_index(inplace = True)\n",
        "plt.figure(figsize=(14,6))\n",
        "sns.lineplot(x = \"release_year\" , y = \"type\" , data = df_yearwise_trend , hue = \"level_1\")\n",
        "plt.xticks(np.arange(1940,2025,10))\n",
        "plt.title(\"Distribun of Conted added over year\")\n",
        "plt.show()"
      ],
      "metadata": {
        "colab": {
          "base_uri": "https://localhost:8080/",
          "height": 405
        },
        "id": "m6j1B1SakOBJ",
        "outputId": "fdc7e4f6-5d3b-4a7d-976f-3c96bb1d6a62"
      },
      "execution_count": null,
      "outputs": [
        {
          "output_type": "display_data",
          "data": {
            "text/plain": [
              "<Figure size 1008x432 with 1 Axes>"
            ],
            "image/png": "[encoded data removed]"
          },
          "metadata": {
            "needs_background": "light"
          }
        }
      ]
    },
    {
      "cell_type": "markdown",
      "source": [
        "# **Conclusion :-**\n",
        "\n",
        "\n",
        "\n",
        "*   In 2020 , maximum no. of TV shows are added followed by 2019 & 2021.\n",
        "*   More no of movies added on Netflix after \"2015\"\n",
        "*   We can see in 2021 count of movies add drop significanty ,maybe due to COVID pandemic.\n",
        "\n",
        "\n",
        "\n",
        "\n",
        "\n",
        "\n",
        "\n",
        "\n"
      ],
      "metadata": {
        "id": "fvoNZZg54qrz"
      }
    },
    {
      "cell_type": "code",
      "source": [
        "plt.figure(figsize=(14,6))\n",
        "movies_ratingwise = df.loc[df[\"type\"] == \"Movie\" , [\"type\" , \"rating\"]]\n",
        "sns.countplot( y=\"rating\" , data =movies_ratingwise,  palette=\"Blues_d\" )\n",
        "plt.title(\"Movies distribution rating wise\")\n",
        "plt.show()"
      ],
      "metadata": {
        "colab": {
          "base_uri": "https://localhost:8080/",
          "height": 404
        },
        "id": "eZib7ntgkv6d",
        "outputId": "53a87d94-c101-46d2-8514-ed5c866f61d4"
      },
      "execution_count": null,
      "outputs": [
        {
          "output_type": "display_data",
          "data": {
            "text/plain": [
              "<Figure size 1008x432 with 1 Axes>"
            ],
            "image/png": "[encoded data removed]"
          },
          "metadata": {
            "needs_background": "light"
          }
        }
      ]
    },
    {
      "cell_type": "markdown",
      "source": [
        "**Conclusion** : Mostly movies are belongs to TV-MA & TV-14 rating."
      ],
      "metadata": {
        "id": "1_H2rihAM2nf"
      }
    },
    {
      "cell_type": "code",
      "source": [
        "plt.figure(figsize=(14,6))\n",
        "movies_ratingwise = df.loc[df[\"type\"] == \"TV Show\" , [\"type\" , \"rating\"]]\n",
        "sns.countplot( y=\"rating\" , data =movies_ratingwise,  palette=\"Blues_d\" )\n",
        "plt.title(\"TV Shows distribution rating wise\")\n",
        "plt.show()"
      ],
      "metadata": {
        "colab": {
          "base_uri": "https://localhost:8080/",
          "height": 388
        },
        "id": "lVTuiAoMk7O5",
        "outputId": "a63ef0d8-262d-490d-c1e6-37f5556c460b"
      },
      "execution_count": null,
      "outputs": [
        {
          "output_type": "display_data",
          "data": {
            "text/plain": [
              "<Figure size 1008x432 with 1 Axes>"
            ],
            "image/png": "[encoded data removed]"
          },
          "metadata": {
            "needs_background": "light"
          }
        }
      ]
    },
    {
      "cell_type": "markdown",
      "source": [
        "**Conclusion** :- Mostly TV Shows are belongs to TV-MA & TV-14 rating."
      ],
      "metadata": {
        "id": "jt7MQF1AaMvq"
      }
    },
    {
      "cell_type": "code",
      "source": [
        "director = df[\"director\"].apply(lambda x : str(x).split(\", \")).tolist()  #exploding the nested data in directors column.\n",
        "df_director = pd.DataFrame(director, index = df[\"title\"])\n",
        "df_director= df_director.stack()\n",
        "df_director = df_director.reset_index()\n",
        "df_director.drop(columns =\"level_1\" , inplace = True) #droping the columns \n",
        "df_director.columns = [\"title\" , \"director\"] #renaming the columns\n",
        "df_fav_director = df.merge(df_director , on = \"title\" ) #merging of the dataframes\n",
        "df_fav_director.head(4)"
      ],
      "metadata": {
        "colab": {
          "base_uri": "https://localhost:8080/",
          "height": 392
        },
        "id": "HID8Ipkale1p",
        "outputId": "f5405bbe-cf08-4ac3-a947-996a808a2132"
      },
      "execution_count": null,
      "outputs": [
        {
          "output_type": "execute_result",
          "data": {
            "text/plain": [
              "  show_id     type                  title       director_x  \\\n",
              "0      s1    Movie   Dick Johnson Is Dead  Kirsten Johnson   \n",
              "1      s2  TV Show          Blood & Water          Unknown   \n",
              "2      s3  TV Show              Ganglands  Julien Leclercq   \n",
              "3      s4  TV Show  Jailbirds New Orleans          Unknown   \n",
              "\n",
              "                                                cast        country  \\\n",
              "0                                            Unknown  United States   \n",
              "1  Ama Qamata, Khosi Ngema, Gail Mabalane, Thaban...   South Africa   \n",
              "2  Sami Bouajila, Tracy Gotoas, Samuel Jouy, Nabi...        Unknown   \n",
              "3                                            Unknown        Unknown   \n",
              "\n",
              "  date_added  release_year rating   duration  \\\n",
              "0 2021-09-25          2020  PG-13     90 min   \n",
              "1 2021-09-24          2021  TV-MA  2 Seasons   \n",
              "2 2021-09-24          2021  TV-MA   1 Season   \n",
              "3 2021-09-24          2021  TV-MA   1 Season   \n",
              "\n",
              "                                           listed_in  \\\n",
              "0                                      Documentaries   \n",
              "1    International TV Shows, TV Dramas, TV Mysteries   \n",
              "2  Crime TV Shows, International TV Shows, TV Act...   \n",
              "3                             Docuseries, Reality TV   \n",
              "\n",
              "                                         description    Year  month       day  \\\n",
              "0  As her father nears the end of his life, filmm...  2021.0    9.0  Saturday   \n",
              "1  After crossing paths at a party, a Cape Town t...  2021.0    9.0    Friday   \n",
              "2  To protect his family from a powerful drug lor...  2021.0    9.0    Friday   \n",
              "3  Feuds, flirtations and toilet talk go down amo...  2021.0    9.0    Friday   \n",
              "\n",
              "        director_y  \n",
              "0  Kirsten Johnson  \n",
              "1          Unknown  \n",
              "2  Julien Leclercq  \n",
              "3          Unknown  "
            ],
            "text/html": [
              "\n",
              "  <div id=\"df-c7f0e3b8-fc09-45ab-9a58-daafd71a63ca\">\n",
              "    <div class=\"colab-df-container\">\n",
              "      <div>\n",
              "<style scoped>\n",
              "    .dataframe tbody tr th:only-of-type {\n",
              "        vertical-align: middle;\n",
              "    }\n",
              "\n",
              "    .dataframe tbody tr th {\n",
              "        vertical-align: top;\n",
              "    }\n",
              "\n",
              "    .dataframe thead th {\n",
              "        text-align: right;\n",
              "    }\n",
              "</style>\n",
              "<table border=\"1\" class=\"dataframe\">\n",
              "  <thead>\n",
              "    <tr style=\"text-align: right;\">\n",
              "      <th></th>\n",
              "      <th>show_id</th>\n",
              "      <th>type</th>\n",
              "      <th>title</th>\n",
              "      <th>director_x</th>\n",
              "      <th>cast</th>\n",
              "      <th>country</th>\n",
              "      <th>date_added</th>\n",
              "      <th>release_year</th>\n",
              "      <th>rating</th>\n",
              "      <th>duration</th>\n",
              "      <th>listed_in</th>\n",
              "      <th>description</th>\n",
              "      <th>Year</th>\n",
              "      <th>month</th>\n",
              "      <th>day</th>\n",
              "      <th>director_y</th>\n",
              "    </tr>\n",
              "  </thead>\n",
              "  <tbody>\n",
              "    <tr>\n",
              "      <th>0</th>\n",
              "      <td>s1</td>\n",
              "      <td>Movie</td>\n",
              "      <td>Dick Johnson Is Dead</td>\n",
              "      <td>Kirsten Johnson</td>\n",
              "      <td>Unknown</td>\n",
              "      <td>United States</td>\n",
              "      <td>2021-09-25</td>\n",
              "      <td>2020</td>\n",
              "      <td>PG-13</td>\n",
              "      <td>90 min</td>\n",
              "      <td>Documentaries</td>\n",
              "      <td>As her father nears the end of his life, filmm...</td>\n",
              "      <td>2021.0</td>\n",
              "      <td>9.0</td>\n",
              "      <td>Saturday</td>\n",
              "      <td>Kirsten Johnson</td>\n",
              "    </tr>\n",
              "    <tr>\n",
              "      <th>1</th>\n",
              "      <td>s2</td>\n",
              "      <td>TV Show</td>\n",
              "      <td>Blood &amp; Water</td>\n",
              "      <td>Unknown</td>\n",
              "      <td>Ama Qamata, Khosi Ngema, Gail Mabalane, Thaban...</td>\n",
              "      <td>South Africa</td>\n",
              "      <td>2021-09-24</td>\n",
              "      <td>2021</td>\n",
              "      <td>TV-MA</td>\n",
              "      <td>2 Seasons</td>\n",
              "      <td>International TV Shows, TV Dramas, TV Mysteries</td>\n",
              "      <td>After crossing paths at a party, a Cape Town t...</td>\n",
              "      <td>2021.0</td>\n",
              "      <td>9.0</td>\n",
              "      <td>Friday</td>\n",
              "      <td>Unknown</td>\n",
              "    </tr>\n",
              "    <tr>\n",
              "      <th>2</th>\n",
              "      <td>s3</td>\n",
              "      <td>TV Show</td>\n",
              "      <td>Ganglands</td>\n",
              "      <td>Julien Leclercq</td>\n",
              "      <td>Sami Bouajila, Tracy Gotoas, Samuel Jouy, Nabi...</td>\n",
              "      <td>Unknown</td>\n",
              "      <td>2021-09-24</td>\n",
              "      <td>2021</td>\n",
              "      <td>TV-MA</td>\n",
              "      <td>1 Season</td>\n",
              "      <td>Crime TV Shows, International TV Shows, TV Act...</td>\n",
              "      <td>To protect his family from a powerful drug lor...</td>\n",
              "      <td>2021.0</td>\n",
              "      <td>9.0</td>\n",
              "      <td>Friday</td>\n",
              "      <td>Julien Leclercq</td>\n",
              "    </tr>\n",
              "    <tr>\n",
              "      <th>3</th>\n",
              "      <td>s4</td>\n",
              "      <td>TV Show</td>\n",
              "      <td>Jailbirds New Orleans</td>\n",
              "      <td>Unknown</td>\n",
              "      <td>Unknown</td>\n",
              "      <td>Unknown</td>\n",
              "      <td>2021-09-24</td>\n",
              "      <td>2021</td>\n",
              "      <td>TV-MA</td>\n",
              "      <td>1 Season</td>\n",
              "      <td>Docuseries, Reality TV</td>\n",
              "      <td>Feuds, flirtations and toilet talk go down amo...</td>\n",
              "      <td>2021.0</td>\n",
              "      <td>9.0</td>\n",
              "      <td>Friday</td>\n",
              "      <td>Unknown</td>\n",
              "    </tr>\n",
              "  </tbody>\n",
              "</table>\n",
              "</div>\n",
              "      <button class=\"colab-df-convert\" onclick=\"convertToInteractive('df-c7f0e3b8-fc09-45ab-9a58-daafd71a63ca')\"\n",
              "              title=\"Convert this dataframe to an interactive table.\"\n",
              "              style=\"display:none;\">\n",
              "        \n",
              "  <svg xmlns=\"http://www.w3.org/2000/svg\" height=\"24px\"viewBox=\"0 0 24 24\"\n",
              "       width=\"24px\">\n",
              "    <path d=\"M0 0h24v24H0V0z\" fill=\"none\"/>\n",
              "    <path d=\"M18.56 5.44l.94 2.06.94-2.06 2.06-.94-2.06-.94-.94-2.06-.94 2.06-2.06.94zm-11 1L8.5 8.5l.94-2.06 2.06-.94-2.06-.94L8.5 2.5l-.94 2.06-2.06.94zm10 10l.94 2.06.94-2.06 2.06-.94-2.06-.94-.94-2.06-.94 2.06-2.06.94z\"/><path d=\"M17.41 7.96l-1.37-1.37c-.4-.4-.92-.59-1.43-.59-.52 0-1.04.2-1.43.59L10.3 9.45l-7.72 7.72c-.78.78-.78 2.05 0 2.83L4 21.41c.39.39.9.59 1.41.59.51 0 1.02-.2 1.41-.59l7.78-7.78 2.81-2.81c.8-.78.8-2.07 0-2.86zM5.41 20L4 18.59l7.72-7.72 1.47 1.35L5.41 20z\"/>\n",
              "  </svg>\n",
              "      </button>\n",
              "      \n",
              "  <style>\n",
              "    .colab-df-container {\n",
              "      display:flex;\n",
              "      flex-wrap:wrap;\n",
              "      gap: 12px;\n",
              "    }\n",
              "\n",
              "    .colab-df-convert {\n",
              "      background-color: #E8F0FE;\n",
              "      border: none;\n",
              "      border-radius: 50%;\n",
              "      cursor: pointer;\n",
              "      display: none;\n",
              "      fill: #1967D2;\n",
              "      height: 32px;\n",
              "      padding: 0 0 0 0;\n",
              "      width: 32px;\n",
              "    }\n",
              "\n",
              "    .colab-df-convert:hover {\n",
              "      background-color: #E2EBFA;\n",
              "      box-shadow: 0px 1px 2px rgba(60, 64, 67, 0.3), 0px 1px 3px 1px rgba(60, 64, 67, 0.15);\n",
              "      fill: #174EA6;\n",
              "    }\n",
              "\n",
              "    [theme=dark] .colab-df-convert {\n",
              "      background-color: #3B4455;\n",
              "      fill: #D2E3FC;\n",
              "    }\n",
              "\n",
              "    [theme=dark] .colab-df-convert:hover {\n",
              "      background-color: #434B5C;\n",
              "      box-shadow: 0px 1px 3px 1px rgba(0, 0, 0, 0.15);\n",
              "      filter: drop-shadow(0px 1px 2px rgba(0, 0, 0, 0.3));\n",
              "      fill: #FFFFFF;\n",
              "    }\n",
              "  </style>\n",
              "\n",
              "      <script>\n",
              "        const buttonEl =\n",
              "          document.querySelector('#df-c7f0e3b8-fc09-45ab-9a58-daafd71a63ca button.colab-df-convert');\n",
              "        buttonEl.style.display =\n",
              "          google.colab.kernel.accessAllowed ? 'block' : 'none';\n",
              "\n",
              "        async function convertToInteractive(key) {\n",
              "          const element = document.querySelector('#df-c7f0e3b8-fc09-45ab-9a58-daafd71a63ca');\n",
              "          const dataTable =\n",
              "            await google.colab.kernel.invokeFunction('convertToInteractive',\n",
              "                                                     [key], {});\n",
              "          if (!dataTable) return;\n",
              "\n",
              "          const docLinkHtml = 'Like what you see? Visit the ' +\n",
              "            '<a target=\"_blank\" href=https://colab.research.google.com/notebooks/data_table.ipynb>data table notebook</a>'\n",
              "            + ' to learn more about interactive tables.';\n",
              "          element.innerHTML = '';\n",
              "          dataTable['output_type'] = 'display_data';\n",
              "          await google.colab.output.renderOutput(dataTable, element);\n",
              "          const docLink = document.createElement('div');\n",
              "          docLink.innerHTML = docLinkHtml;\n",
              "          element.appendChild(docLink);\n",
              "        }\n",
              "      </script>\n",
              "    </div>\n",
              "  </div>\n",
              "  "
            ]
          },
          "metadata": {},
          "execution_count": 80
        }
      ]
    },
    {
      "cell_type": "code",
      "source": [
        "#exploding country column\n",
        "country = df[\"country\"].apply(lambda x: str(x).split(\", \")).tolist() #exploding the country column\n",
        "df_country = pd.DataFrame(country, index = df[\"title\"])\n",
        "df_country = df_country.stack()\n",
        "df_country = df_country.reset_index()\n",
        "df_country.drop(columns = \"level_1\" , inplace = True)\n",
        "df_country.columns = [\"title\" , \"country\"]"
      ],
      "metadata": {
        "id": "u-7VxIFenEqK"
      },
      "execution_count": null,
      "outputs": []
    },
    {
      "cell_type": "code",
      "source": [
        "Country_wise_trend = df.merge(df_country , on = \"title\") #making new dataframe by merfing df_country and original dataframe.\n",
        "Country_wise_trend.drop(columns = \"country_x\" , inplace = True)\n",
        "Country_wise_trend.rename(columns = {\"country_y\" : \"country\"}, inplace = True)\n",
        "Country_wise_trend = Country_wise_trend.loc[Country_wise_trend[\"country\"] != \"Unknown\"]\n",
        "top10_country = Country_wise_trend[\"country\"].value_counts().head(10).reset_index()\n",
        "top10_country.rename(columns = {\"index\" :\"country\" , \"country\" : \"count\"}, inplace = True)\n",
        "Country_wise_trend = Country_wise_trend.merge(top10_country, how = \"inner\" , on = \"country\")\n",
        "plt.figure(figsize = (15,8))\n",
        "sns.countplot(x =\"country\" , data =Country_wise_trend , hue = \"type\" )\n",
        "plt.title(\"Count of movies and TV shows countrywise\")\n",
        "plt.show()"
      ],
      "metadata": {
        "colab": {
          "base_uri": "https://localhost:8080/",
          "height": 513
        },
        "id": "4naGlU9Te5fH",
        "outputId": "c9a7b3c3-ffbc-4707-88c6-61f2ba12902e"
      },
      "execution_count": null,
      "outputs": [
        {
          "output_type": "display_data",
          "data": {
            "text/plain": [
              "<Figure size 1080x576 with 1 Axes>"
            ],
            "image/png": "[encoded data removed]"
          },
          "metadata": {
            "needs_background": "light"
          }
        }
      ]
    },
    {
      "cell_type": "markdown",
      "source": [
        "# **Conclusion :-** \n",
        "\n",
        "\n",
        "*   Netflix should target to add more movies in Unites states and India as compare to TV Series. \n",
        "*   Netflix should target to add more TV shows in Japan and South Korea. \n",
        "\n",
        "\n",
        "\n"
      ],
      "metadata": {
        "id": "9a18w0r9ioPG"
      }
    },
    {
      "cell_type": "code",
      "source": [
        "#exploding listed_in column\n",
        "listed_in = df[\"listed_in\"].apply(lambda x: str(x).split(\", \")).tolist()\n",
        "df_genre = pd.DataFrame(listed_in, index = df[\"title\"])\n",
        "df_genre = df_genre.stack()\n",
        "df_genre = df_genre.reset_index()\n",
        "df_genre.drop(columns = \"level_1\" , inplace = True)\n",
        "df_genre.columns = [\"title\" , \"genre\"]\n",
        "df_genre.head()"
      ],
      "metadata": {
        "colab": {
          "base_uri": "https://localhost:8080/",
          "height": 206
        },
        "id": "2cmQxc9i9bZ9",
        "outputId": "7a329776-732c-424e-cc10-9fdbc1f7aee1"
      },
      "execution_count": null,
      "outputs": [
        {
          "output_type": "execute_result",
          "data": {
            "text/plain": [
              "                  title                   genre\n",
              "0  Dick Johnson Is Dead           Documentaries\n",
              "1         Blood & Water  International TV Shows\n",
              "2         Blood & Water               TV Dramas\n",
              "3         Blood & Water            TV Mysteries\n",
              "4             Ganglands          Crime TV Shows"
            ],
            "text/html": [
              "\n",
              "  <div id=\"df-5e552cee-7baf-42f0-b6b3-ea2390ffcff9\">\n",
              "    <div class=\"colab-df-container\">\n",
              "      <div>\n",
              "<style scoped>\n",
              "    .dataframe tbody tr th:only-of-type {\n",
              "        vertical-align: middle;\n",
              "    }\n",
              "\n",
              "    .dataframe tbody tr th {\n",
              "        vertical-align: top;\n",
              "    }\n",
              "\n",
              "    .dataframe thead th {\n",
              "        text-align: right;\n",
              "    }\n",
              "</style>\n",
              "<table border=\"1\" class=\"dataframe\">\n",
              "  <thead>\n",
              "    <tr style=\"text-align: right;\">\n",
              "      <th></th>\n",
              "      <th>title</th>\n",
              "      <th>genre</th>\n",
              "    </tr>\n",
              "  </thead>\n",
              "  <tbody>\n",
              "    <tr>\n",
              "      <th>0</th>\n",
              "      <td>Dick Johnson Is Dead</td>\n",
              "      <td>Documentaries</td>\n",
              "    </tr>\n",
              "    <tr>\n",
              "      <th>1</th>\n",
              "      <td>Blood &amp; Water</td>\n",
              "      <td>International TV Shows</td>\n",
              "    </tr>\n",
              "    <tr>\n",
              "      <th>2</th>\n",
              "      <td>Blood &amp; Water</td>\n",
              "      <td>TV Dramas</td>\n",
              "    </tr>\n",
              "    <tr>\n",
              "      <th>3</th>\n",
              "      <td>Blood &amp; Water</td>\n",
              "      <td>TV Mysteries</td>\n",
              "    </tr>\n",
              "    <tr>\n",
              "      <th>4</th>\n",
              "      <td>Ganglands</td>\n",
              "      <td>Crime TV Shows</td>\n",
              "    </tr>\n",
              "  </tbody>\n",
              "</table>\n",
              "</div>\n",
              "      <button class=\"colab-df-convert\" onclick=\"convertToInteractive('df-5e552cee-7baf-42f0-b6b3-ea2390ffcff9')\"\n",
              "              title=\"Convert this dataframe to an interactive table.\"\n",
              "              style=\"display:none;\">\n",
              "        \n",
              "  <svg xmlns=\"http://www.w3.org/2000/svg\" height=\"24px\"viewBox=\"0 0 24 24\"\n",
              "       width=\"24px\">\n",
              "    <path d=\"M0 0h24v24H0V0z\" fill=\"none\"/>\n",
              "    <path d=\"M18.56 5.44l.94 2.06.94-2.06 2.06-.94-2.06-.94-.94-2.06-.94 2.06-2.06.94zm-11 1L8.5 8.5l.94-2.06 2.06-.94-2.06-.94L8.5 2.5l-.94 2.06-2.06.94zm10 10l.94 2.06.94-2.06 2.06-.94-2.06-.94-.94-2.06-.94 2.06-2.06.94z\"/><path d=\"M17.41 7.96l-1.37-1.37c-.4-.4-.92-.59-1.43-.59-.52 0-1.04.2-1.43.59L10.3 9.45l-7.72 7.72c-.78.78-.78 2.05 0 2.83L4 21.41c.39.39.9.59 1.41.59.51 0 1.02-.2 1.41-.59l7.78-7.78 2.81-2.81c.8-.78.8-2.07 0-2.86zM5.41 20L4 18.59l7.72-7.72 1.47 1.35L5.41 20z\"/>\n",
              "  </svg>\n",
              "      </button>\n",
              "      \n",
              "  <style>\n",
              "    .colab-df-container {\n",
              "      display:flex;\n",
              "      flex-wrap:wrap;\n",
              "      gap: 12px;\n",
              "    }\n",
              "\n",
              "    .colab-df-convert {\n",
              "      background-color: #E8F0FE;\n",
              "      border: none;\n",
              "      border-radius: 50%;\n",
              "      cursor: pointer;\n",
              "      display: none;\n",
              "      fill: #1967D2;\n",
              "      height: 32px;\n",
              "      padding: 0 0 0 0;\n",
              "      width: 32px;\n",
              "    }\n",
              "\n",
              "    .colab-df-convert:hover {\n",
              "      background-color: #E2EBFA;\n",
              "      box-shadow: 0px 1px 2px rgba(60, 64, 67, 0.3), 0px 1px 3px 1px rgba(60, 64, 67, 0.15);\n",
              "      fill: #174EA6;\n",
              "    }\n",
              "\n",
              "    [theme=dark] .colab-df-convert {\n",
              "      background-color: #3B4455;\n",
              "      fill: #D2E3FC;\n",
              "    }\n",
              "\n",
              "    [theme=dark] .colab-df-convert:hover {\n",
              "      background-color: #434B5C;\n",
              "      box-shadow: 0px 1px 3px 1px rgba(0, 0, 0, 0.15);\n",
              "      filter: drop-shadow(0px 1px 2px rgba(0, 0, 0, 0.3));\n",
              "      fill: #FFFFFF;\n",
              "    }\n",
              "  </style>\n",
              "\n",
              "      <script>\n",
              "        const buttonEl =\n",
              "          document.querySelector('#df-5e552cee-7baf-42f0-b6b3-ea2390ffcff9 button.colab-df-convert');\n",
              "        buttonEl.style.display =\n",
              "          google.colab.kernel.accessAllowed ? 'block' : 'none';\n",
              "\n",
              "        async function convertToInteractive(key) {\n",
              "          const element = document.querySelector('#df-5e552cee-7baf-42f0-b6b3-ea2390ffcff9');\n",
              "          const dataTable =\n",
              "            await google.colab.kernel.invokeFunction('convertToInteractive',\n",
              "                                                     [key], {});\n",
              "          if (!dataTable) return;\n",
              "\n",
              "          const docLinkHtml = 'Like what you see? Visit the ' +\n",
              "            '<a target=\"_blank\" href=https://colab.research.google.com/notebooks/data_table.ipynb>data table notebook</a>'\n",
              "            + ' to learn more about interactive tables.';\n",
              "          element.innerHTML = '';\n",
              "          dataTable['output_type'] = 'display_data';\n",
              "          await google.colab.output.renderOutput(dataTable, element);\n",
              "          const docLink = document.createElement('div');\n",
              "          docLink.innerHTML = docLinkHtml;\n",
              "          element.appendChild(docLink);\n",
              "        }\n",
              "      </script>\n",
              "    </div>\n",
              "  </div>\n",
              "  "
            ]
          },
          "metadata": {},
          "execution_count": 83
        }
      ]
    },
    {
      "cell_type": "code",
      "source": [
        "plt.figure(figsize = (18,10))\n",
        "sns.countplot(y = \"genre\" , data =df_genre )\n",
        "plt.title(\"Ditribution of conent Rating_wise\")\n",
        "plt.show()"
      ],
      "metadata": {
        "colab": {
          "base_uri": "https://localhost:8080/",
          "height": 621
        },
        "id": "v2GhHUNmkzso",
        "outputId": "6651aa2b-4da8-4bcf-c7b9-48926f0fb5fb"
      },
      "execution_count": null,
      "outputs": [
        {
          "output_type": "display_data",
          "data": {
            "text/plain": [
              "<Figure size 1296x720 with 1 Axes>"
            ],
            "image/png": "[encoded data removed]"
          },
          "metadata": {
            "needs_background": "light"
          }
        }
      ]
    },
    {
      "cell_type": "markdown",
      "source": [
        "Most appearing category in netflix movies and TV shows are:-\n",
        "*   International Movies\n",
        "*   Dramas\n",
        "*   Comedies\n",
        "*   International TV show\n",
        "\n",
        "\n",
        "\n"
      ],
      "metadata": {
        "id": "DOKt6tYxmjI8"
      }
    },
    {
      "cell_type": "markdown",
      "source": [
        "# ***Non-Graphical Analysis***"
      ],
      "metadata": {
        "id": "SB3v_qFRNZIx"
      }
    },
    {
      "cell_type": "code",
      "source": [
        "director_countrywise= df_fav_director.merge(df_country , on = \"title\")\n",
        "director_countrywise= director_countrywise.drop(columns = [\"director_x\" , \"country_x\" ])\n",
        "director_countrywise.rename(columns = {\"director_y\": \"director\" , \"country_y\" : \"country\"}, inplace = True)\n",
        "director_countrywise = director_countrywise.loc[director_countrywise[\"director\"] != \"Unknown\"]\n",
        "director_countrywise.reset_index(inplace= True)\n",
        "director_countrywise.head()"
      ],
      "metadata": {
        "colab": {
          "base_uri": "https://localhost:8080/",
          "height": 476
        },
        "id": "PB9y-175nFfC",
        "outputId": "7f695e14-f3a8-41da-d10c-997bc10b0dd3"
      },
      "execution_count": null,
      "outputs": [
        {
          "output_type": "execute_result",
          "data": {
            "text/plain": [
              "   index show_id     type                             title  \\\n",
              "0      0      s1    Movie              Dick Johnson Is Dead   \n",
              "1      2      s3  TV Show                         Ganglands   \n",
              "2      5      s6  TV Show                     Midnight Mass   \n",
              "3      6      s7    Movie  My Little Pony: A New Generation   \n",
              "4      7      s7    Movie  My Little Pony: A New Generation   \n",
              "\n",
              "                                                cast date_added  release_year  \\\n",
              "0                                            Unknown 2021-09-25          2020   \n",
              "1  Sami Bouajila, Tracy Gotoas, Samuel Jouy, Nabi... 2021-09-24          2021   \n",
              "2  Kate Siegel, Zach Gilford, Hamish Linklater, H... 2021-09-24          2021   \n",
              "3  Vanessa Hudgens, Kimiko Glenn, James Marsden, ... 2021-09-24          2021   \n",
              "4  Vanessa Hudgens, Kimiko Glenn, James Marsden, ... 2021-09-24          2021   \n",
              "\n",
              "  rating  duration                                          listed_in  \\\n",
              "0  PG-13    90 min                                      Documentaries   \n",
              "1  TV-MA  1 Season  Crime TV Shows, International TV Shows, TV Act...   \n",
              "2  TV-MA  1 Season                 TV Dramas, TV Horror, TV Mysteries   \n",
              "3     PG    91 min                           Children & Family Movies   \n",
              "4     PG    91 min                           Children & Family Movies   \n",
              "\n",
              "                                         description    Year  month       day  \\\n",
              "0  As her father nears the end of his life, filmm...  2021.0    9.0  Saturday   \n",
              "1  To protect his family from a powerful drug lor...  2021.0    9.0    Friday   \n",
              "2  The arrival of a charismatic young priest brin...  2021.0    9.0    Friday   \n",
              "3  Equestria's divided. But a bright-eyed hero be...  2021.0    9.0    Friday   \n",
              "4  Equestria's divided. But a bright-eyed hero be...  2021.0    9.0    Friday   \n",
              "\n",
              "          director        country  \n",
              "0  Kirsten Johnson  United States  \n",
              "1  Julien Leclercq        Unknown  \n",
              "2    Mike Flanagan        Unknown  \n",
              "3    Robert Cullen        Unknown  \n",
              "4   José Luis Ucha        Unknown  "
            ],
            "text/html": [
              "\n",
              "  <div id=\"df-0142e0ae-7758-4d04-a187-deec0d1647ba\">\n",
              "    <div class=\"colab-df-container\">\n",
              "      <div>\n",
              "<style scoped>\n",
              "    .dataframe tbody tr th:only-of-type {\n",
              "        vertical-align: middle;\n",
              "    }\n",
              "\n",
              "    .dataframe tbody tr th {\n",
              "        vertical-align: top;\n",
              "    }\n",
              "\n",
              "    .dataframe thead th {\n",
              "        text-align: right;\n",
              "    }\n",
              "</style>\n",
              "<table border=\"1\" class=\"dataframe\">\n",
              "  <thead>\n",
              "    <tr style=\"text-align: right;\">\n",
              "      <th></th>\n",
              "      <th>index</th>\n",
              "      <th>show_id</th>\n",
              "      <th>type</th>\n",
              "      <th>title</th>\n",
              "      <th>cast</th>\n",
              "      <th>date_added</th>\n",
              "      <th>release_year</th>\n",
              "      <th>rating</th>\n",
              "      <th>duration</th>\n",
              "      <th>listed_in</th>\n",
              "      <th>description</th>\n",
              "      <th>Year</th>\n",
              "      <th>month</th>\n",
              "      <th>day</th>\n",
              "      <th>director</th>\n",
              "      <th>country</th>\n",
              "    </tr>\n",
              "  </thead>\n",
              "  <tbody>\n",
              "    <tr>\n",
              "      <th>0</th>\n",
              "      <td>0</td>\n",
              "      <td>s1</td>\n",
              "      <td>Movie</td>\n",
              "      <td>Dick Johnson Is Dead</td>\n",
              "      <td>Unknown</td>\n",
              "      <td>2021-09-25</td>\n",
              "      <td>2020</td>\n",
              "      <td>PG-13</td>\n",
              "      <td>90 min</td>\n",
              "      <td>Documentaries</td>\n",
              "      <td>As her father nears the end of his life, filmm...</td>\n",
              "      <td>2021.0</td>\n",
              "      <td>9.0</td>\n",
              "      <td>Saturday</td>\n",
              "      <td>Kirsten Johnson</td>\n",
              "      <td>United States</td>\n",
              "    </tr>\n",
              "    <tr>\n",
              "      <th>1</th>\n",
              "      <td>2</td>\n",
              "      <td>s3</td>\n",
              "      <td>TV Show</td>\n",
              "      <td>Ganglands</td>\n",
              "      <td>Sami Bouajila, Tracy Gotoas, Samuel Jouy, Nabi...</td>\n",
              "      <td>2021-09-24</td>\n",
              "      <td>2021</td>\n",
              "      <td>TV-MA</td>\n",
              "      <td>1 Season</td>\n",
              "      <td>Crime TV Shows, International TV Shows, TV Act...</td>\n",
              "      <td>To protect his family from a powerful drug lor...</td>\n",
              "      <td>2021.0</td>\n",
              "      <td>9.0</td>\n",
              "      <td>Friday</td>\n",
              "      <td>Julien Leclercq</td>\n",
              "      <td>Unknown</td>\n",
              "    </tr>\n",
              "    <tr>\n",
              "      <th>2</th>\n",
              "      <td>5</td>\n",
              "      <td>s6</td>\n",
              "      <td>TV Show</td>\n",
              "      <td>Midnight Mass</td>\n",
              "      <td>Kate Siegel, Zach Gilford, Hamish Linklater, H...</td>\n",
              "      <td>2021-09-24</td>\n",
              "      <td>2021</td>\n",
              "      <td>TV-MA</td>\n",
              "      <td>1 Season</td>\n",
              "      <td>TV Dramas, TV Horror, TV Mysteries</td>\n",
              "      <td>The arrival of a charismatic young priest brin...</td>\n",
              "      <td>2021.0</td>\n",
              "      <td>9.0</td>\n",
              "      <td>Friday</td>\n",
              "      <td>Mike Flanagan</td>\n",
              "      <td>Unknown</td>\n",
              "    </tr>\n",
              "    <tr>\n",
              "      <th>3</th>\n",
              "      <td>6</td>\n",
              "      <td>s7</td>\n",
              "      <td>Movie</td>\n",
              "      <td>My Little Pony: A New Generation</td>\n",
              "      <td>Vanessa Hudgens, Kimiko Glenn, James Marsden, ...</td>\n",
              "      <td>2021-09-24</td>\n",
              "      <td>2021</td>\n",
              "      <td>PG</td>\n",
              "      <td>91 min</td>\n",
              "      <td>Children &amp; Family Movies</td>\n",
              "      <td>Equestria's divided. But a bright-eyed hero be...</td>\n",
              "      <td>2021.0</td>\n",
              "      <td>9.0</td>\n",
              "      <td>Friday</td>\n",
              "      <td>Robert Cullen</td>\n",
              "      <td>Unknown</td>\n",
              "    </tr>\n",
              "    <tr>\n",
              "      <th>4</th>\n",
              "      <td>7</td>\n",
              "      <td>s7</td>\n",
              "      <td>Movie</td>\n",
              "      <td>My Little Pony: A New Generation</td>\n",
              "      <td>Vanessa Hudgens, Kimiko Glenn, James Marsden, ...</td>\n",
              "      <td>2021-09-24</td>\n",
              "      <td>2021</td>\n",
              "      <td>PG</td>\n",
              "      <td>91 min</td>\n",
              "      <td>Children &amp; Family Movies</td>\n",
              "      <td>Equestria's divided. But a bright-eyed hero be...</td>\n",
              "      <td>2021.0</td>\n",
              "      <td>9.0</td>\n",
              "      <td>Friday</td>\n",
              "      <td>José Luis Ucha</td>\n",
              "      <td>Unknown</td>\n",
              "    </tr>\n",
              "  </tbody>\n",
              "</table>\n",
              "</div>\n",
              "      <button class=\"colab-df-convert\" onclick=\"convertToInteractive('df-0142e0ae-7758-4d04-a187-deec0d1647ba')\"\n",
              "              title=\"Convert this dataframe to an interactive table.\"\n",
              "              style=\"display:none;\">\n",
              "        \n",
              "  <svg xmlns=\"http://www.w3.org/2000/svg\" height=\"24px\"viewBox=\"0 0 24 24\"\n",
              "       width=\"24px\">\n",
              "    <path d=\"M0 0h24v24H0V0z\" fill=\"none\"/>\n",
              "    <path d=\"M18.56 5.44l.94 2.06.94-2.06 2.06-.94-2.06-.94-.94-2.06-.94 2.06-2.06.94zm-11 1L8.5 8.5l.94-2.06 2.06-.94-2.06-.94L8.5 2.5l-.94 2.06-2.06.94zm10 10l.94 2.06.94-2.06 2.06-.94-2.06-.94-.94-2.06-.94 2.06-2.06.94z\"/><path d=\"M17.41 7.96l-1.37-1.37c-.4-.4-.92-.59-1.43-.59-.52 0-1.04.2-1.43.59L10.3 9.45l-7.72 7.72c-.78.78-.78 2.05 0 2.83L4 21.41c.39.39.9.59 1.41.59.51 0 1.02-.2 1.41-.59l7.78-7.78 2.81-2.81c.8-.78.8-2.07 0-2.86zM5.41 20L4 18.59l7.72-7.72 1.47 1.35L5.41 20z\"/>\n",
              "  </svg>\n",
              "      </button>\n",
              "      \n",
              "  <style>\n",
              "    .colab-df-container {\n",
              "      display:flex;\n",
              "      flex-wrap:wrap;\n",
              "      gap: 12px;\n",
              "    }\n",
              "\n",
              "    .colab-df-convert {\n",
              "      background-color: #E8F0FE;\n",
              "      border: none;\n",
              "      border-radius: 50%;\n",
              "      cursor: pointer;\n",
              "      display: none;\n",
              "      fill: #1967D2;\n",
              "      height: 32px;\n",
              "      padding: 0 0 0 0;\n",
              "      width: 32px;\n",
              "    }\n",
              "\n",
              "    .colab-df-convert:hover {\n",
              "      background-color: #E2EBFA;\n",
              "      box-shadow: 0px 1px 2px rgba(60, 64, 67, 0.3), 0px 1px 3px 1px rgba(60, 64, 67, 0.15);\n",
              "      fill: #174EA6;\n",
              "    }\n",
              "\n",
              "    [theme=dark] .colab-df-convert {\n",
              "      background-color: #3B4455;\n",
              "      fill: #D2E3FC;\n",
              "    }\n",
              "\n",
              "    [theme=dark] .colab-df-convert:hover {\n",
              "      background-color: #434B5C;\n",
              "      box-shadow: 0px 1px 3px 1px rgba(0, 0, 0, 0.15);\n",
              "      filter: drop-shadow(0px 1px 2px rgba(0, 0, 0, 0.3));\n",
              "      fill: #FFFFFF;\n",
              "    }\n",
              "  </style>\n",
              "\n",
              "      <script>\n",
              "        const buttonEl =\n",
              "          document.querySelector('#df-0142e0ae-7758-4d04-a187-deec0d1647ba button.colab-df-convert');\n",
              "        buttonEl.style.display =\n",
              "          google.colab.kernel.accessAllowed ? 'block' : 'none';\n",
              "\n",
              "        async function convertToInteractive(key) {\n",
              "          const element = document.querySelector('#df-0142e0ae-7758-4d04-a187-deec0d1647ba');\n",
              "          const dataTable =\n",
              "            await google.colab.kernel.invokeFunction('convertToInteractive',\n",
              "                                                     [key], {});\n",
              "          if (!dataTable) return;\n",
              "\n",
              "          const docLinkHtml = 'Like what you see? Visit the ' +\n",
              "            '<a target=\"_blank\" href=https://colab.research.google.com/notebooks/data_table.ipynb>data table notebook</a>'\n",
              "            + ' to learn more about interactive tables.';\n",
              "          element.innerHTML = '';\n",
              "          dataTable['output_type'] = 'display_data';\n",
              "          await google.colab.output.renderOutput(dataTable, element);\n",
              "          const docLink = document.createElement('div');\n",
              "          docLink.innerHTML = docLinkHtml;\n",
              "          element.appendChild(docLink);\n",
              "        }\n",
              "      </script>\n",
              "    </div>\n",
              "  </div>\n",
              "  "
            ]
          },
          "metadata": {},
          "execution_count": 85
        }
      ]
    },
    {
      "cell_type": "code",
      "source": [
        "country = director_countrywise['country'].value_counts()[:6].index.tolist()\n",
        "print(' Top 2 Directors of Top 5 Countries')\n",
        "print('\\n')\n",
        "for val in country:\n",
        "  if val != 'Unknown':\n",
        "    print(f'**{val}**')\n",
        "    print(director_countrywise.loc[director_countrywise['country']==val, 'director'].value_counts()[:2])\n",
        "    print('\\n')"
      ],
      "metadata": {
        "colab": {
          "base_uri": "https://localhost:8080/"
        },
        "id": "k0F6oVNEnLsI",
        "outputId": "77983c50-7a45-4ad2-8225-5269daec9031"
      },
      "execution_count": null,
      "outputs": [
        {
          "output_type": "stream",
          "name": "stdout",
          "text": [
            " Top 2 Directors of Top 5 Countries\n",
            "\n",
            "\n",
            "**United States**\n",
            "Jay Karas       15\n",
            "Marcus Raboy    15\n",
            "Name: director, dtype: int64\n",
            "\n",
            "\n",
            "**India**\n",
            "Anurag Kashyap    9\n",
            "David Dhawan      9\n",
            "Name: director, dtype: int64\n",
            "\n",
            "\n",
            "**United Kingdom**\n",
            "Alastair Fothergill    4\n",
            "Edward Cotterill       4\n",
            "Name: director, dtype: int64\n",
            "\n",
            "\n",
            "**Canada**\n",
            "Justin G. Dyck      8\n",
            "Mike Clattenburg    5\n",
            "Name: director, dtype: int64\n",
            "\n",
            "\n",
            "**France**\n",
            "Thierry Donard     5\n",
            "Youssef Chahine    4\n",
            "Name: director, dtype: int64\n",
            "\n",
            "\n"
          ]
        }
      ]
    },
    {
      "cell_type": "markdown",
      "source": [
        "Conclusion :\n",
        "*   Anurag Kashyap and David Dhawan are the most famous directors for Inida. \n",
        "*  Jay Karas and Marcus Raboyare the most famous directors in United States.\n",
        "\n"
      ],
      "metadata": {
        "id": "ga_9SK73NuD8"
      }
    },
    {
      "cell_type": "code",
      "source": [
        "director_countrywise[\"director\"].value_counts().head(3)"
      ],
      "metadata": {
        "colab": {
          "base_uri": "https://localhost:8080/"
        },
        "id": "Xed69aqznP--",
        "outputId": "053b3470-a63d-4587-9376-c3f7c5c9fb83"
      },
      "execution_count": null,
      "outputs": [
        {
          "output_type": "execute_result",
          "data": {
            "text/plain": [
              "Rajiv Chilaka    22\n",
              "Jan Suter        21\n",
              "Raúl Campos      19\n",
              "Name: director, dtype: int64"
            ]
          },
          "metadata": {},
          "execution_count": 87
        }
      ]
    },
    {
      "cell_type": "markdown",
      "source": [
        "Conclusion : \"Rajiv Chilaka\" is the most famous director among all followed by Jan Suter"
      ],
      "metadata": {
        "id": "aenqtvCMOf2B"
      }
    },
    {
      "cell_type": "code",
      "source": [
        "#exploding cast column\n",
        "cast = df[\"cast\"].apply(lambda x : str(x).split(\", \")).tolist()\n",
        "df_cast = pd.DataFrame(cast,  index = df[\"title\"])\n",
        "df_cast = df_cast.stack()\n",
        "df_cast = df_cast.reset_index()\n",
        "df_cast.drop(columns = \"level_1\" , inplace = True)\n",
        "df_cast.columns = [\"title\" , \"cast\"]\n",
        "df_fav_cast = df.merge(df_cast , on = \"title\" )"
      ],
      "metadata": {
        "id": "LOu1-zNoniXk"
      },
      "execution_count": null,
      "outputs": []
    },
    {
      "cell_type": "code",
      "source": [
        "cast_countrywise= df_fav_cast.merge(df_country , on = \"title\")\n",
        "cast_countrywise= cast_countrywise.drop(columns = [\"cast_x\" , \"country_x\"])\n",
        "cast_countrywise = cast_countrywise.rename(columns = {\"cast_y\" : \"cast\" , \"country_y\" : \"country\"})\n",
        "cast_countrywise = cast_countrywise.loc[cast_countrywise[\"cast\"] != \"Unknown\"].reset_index() #making new dataframe by dropping all rows whose cast is unknown and then resetting the index..00\n",
        "cast_countrywise.head()"
      ],
      "metadata": {
        "colab": {
          "base_uri": "https://localhost:8080/",
          "height": 337
        },
        "id": "tMQpNvfPnrIU",
        "outputId": "fd308242-f9fd-4f19-9fb3-4a6e0ae1ee5e"
      },
      "execution_count": null,
      "outputs": [
        {
          "output_type": "execute_result",
          "data": {
            "text/plain": [
              "   index show_id     type          title director date_added  release_year  \\\n",
              "0      1      s2  TV Show  Blood & Water  Unknown 2021-09-24          2021   \n",
              "1      2      s2  TV Show  Blood & Water  Unknown 2021-09-24          2021   \n",
              "2      3      s2  TV Show  Blood & Water  Unknown 2021-09-24          2021   \n",
              "3      4      s2  TV Show  Blood & Water  Unknown 2021-09-24          2021   \n",
              "4      5      s2  TV Show  Blood & Water  Unknown 2021-09-24          2021   \n",
              "\n",
              "  rating   duration                                        listed_in  \\\n",
              "0  TV-MA  2 Seasons  International TV Shows, TV Dramas, TV Mysteries   \n",
              "1  TV-MA  2 Seasons  International TV Shows, TV Dramas, TV Mysteries   \n",
              "2  TV-MA  2 Seasons  International TV Shows, TV Dramas, TV Mysteries   \n",
              "3  TV-MA  2 Seasons  International TV Shows, TV Dramas, TV Mysteries   \n",
              "4  TV-MA  2 Seasons  International TV Shows, TV Dramas, TV Mysteries   \n",
              "\n",
              "                                         description    Year  month     day  \\\n",
              "0  After crossing paths at a party, a Cape Town t...  2021.0    9.0  Friday   \n",
              "1  After crossing paths at a party, a Cape Town t...  2021.0    9.0  Friday   \n",
              "2  After crossing paths at a party, a Cape Town t...  2021.0    9.0  Friday   \n",
              "3  After crossing paths at a party, a Cape Town t...  2021.0    9.0  Friday   \n",
              "4  After crossing paths at a party, a Cape Town t...  2021.0    9.0  Friday   \n",
              "\n",
              "               cast       country  \n",
              "0        Ama Qamata  South Africa  \n",
              "1       Khosi Ngema  South Africa  \n",
              "2     Gail Mabalane  South Africa  \n",
              "3    Thabang Molaba  South Africa  \n",
              "4  Dillon Windvogel  South Africa  "
            ],
            "text/html": [
              "\n",
              "  <div id=\"df-18d1212c-b8d3-4bb1-b3e1-c61aea2ef783\">\n",
              "    <div class=\"colab-df-container\">\n",
              "      <div>\n",
              "<style scoped>\n",
              "    .dataframe tbody tr th:only-of-type {\n",
              "        vertical-align: middle;\n",
              "    }\n",
              "\n",
              "    .dataframe tbody tr th {\n",
              "        vertical-align: top;\n",
              "    }\n",
              "\n",
              "    .dataframe thead th {\n",
              "        text-align: right;\n",
              "    }\n",
              "</style>\n",
              "<table border=\"1\" class=\"dataframe\">\n",
              "  <thead>\n",
              "    <tr style=\"text-align: right;\">\n",
              "      <th></th>\n",
              "      <th>index</th>\n",
              "      <th>show_id</th>\n",
              "      <th>type</th>\n",
              "      <th>title</th>\n",
              "      <th>director</th>\n",
              "      <th>date_added</th>\n",
              "      <th>release_year</th>\n",
              "      <th>rating</th>\n",
              "      <th>duration</th>\n",
              "      <th>listed_in</th>\n",
              "      <th>description</th>\n",
              "      <th>Year</th>\n",
              "      <th>month</th>\n",
              "      <th>day</th>\n",
              "      <th>cast</th>\n",
              "      <th>country</th>\n",
              "    </tr>\n",
              "  </thead>\n",
              "  <tbody>\n",
              "    <tr>\n",
              "      <th>0</th>\n",
              "      <td>1</td>\n",
              "      <td>s2</td>\n",
              "      <td>TV Show</td>\n",
              "      <td>Blood &amp; Water</td>\n",
              "      <td>Unknown</td>\n",
              "      <td>2021-09-24</td>\n",
              "      <td>2021</td>\n",
              "      <td>TV-MA</td>\n",
              "      <td>2 Seasons</td>\n",
              "      <td>International TV Shows, TV Dramas, TV Mysteries</td>\n",
              "      <td>After crossing paths at a party, a Cape Town t...</td>\n",
              "      <td>2021.0</td>\n",
              "      <td>9.0</td>\n",
              "      <td>Friday</td>\n",
              "      <td>Ama Qamata</td>\n",
              "      <td>South Africa</td>\n",
              "    </tr>\n",
              "    <tr>\n",
              "      <th>1</th>\n",
              "      <td>2</td>\n",
              "      <td>s2</td>\n",
              "      <td>TV Show</td>\n",
              "      <td>Blood &amp; Water</td>\n",
              "      <td>Unknown</td>\n",
              "      <td>2021-09-24</td>\n",
              "      <td>2021</td>\n",
              "      <td>TV-MA</td>\n",
              "      <td>2 Seasons</td>\n",
              "      <td>International TV Shows, TV Dramas, TV Mysteries</td>\n",
              "      <td>After crossing paths at a party, a Cape Town t...</td>\n",
              "      <td>2021.0</td>\n",
              "      <td>9.0</td>\n",
              "      <td>Friday</td>\n",
              "      <td>Khosi Ngema</td>\n",
              "      <td>South Africa</td>\n",
              "    </tr>\n",
              "    <tr>\n",
              "      <th>2</th>\n",
              "      <td>3</td>\n",
              "      <td>s2</td>\n",
              "      <td>TV Show</td>\n",
              "      <td>Blood &amp; Water</td>\n",
              "      <td>Unknown</td>\n",
              "      <td>2021-09-24</td>\n",
              "      <td>2021</td>\n",
              "      <td>TV-MA</td>\n",
              "      <td>2 Seasons</td>\n",
              "      <td>International TV Shows, TV Dramas, TV Mysteries</td>\n",
              "      <td>After crossing paths at a party, a Cape Town t...</td>\n",
              "      <td>2021.0</td>\n",
              "      <td>9.0</td>\n",
              "      <td>Friday</td>\n",
              "      <td>Gail Mabalane</td>\n",
              "      <td>South Africa</td>\n",
              "    </tr>\n",
              "    <tr>\n",
              "      <th>3</th>\n",
              "      <td>4</td>\n",
              "      <td>s2</td>\n",
              "      <td>TV Show</td>\n",
              "      <td>Blood &amp; Water</td>\n",
              "      <td>Unknown</td>\n",
              "      <td>2021-09-24</td>\n",
              "      <td>2021</td>\n",
              "      <td>TV-MA</td>\n",
              "      <td>2 Seasons</td>\n",
              "      <td>International TV Shows, TV Dramas, TV Mysteries</td>\n",
              "      <td>After crossing paths at a party, a Cape Town t...</td>\n",
              "      <td>2021.0</td>\n",
              "      <td>9.0</td>\n",
              "      <td>Friday</td>\n",
              "      <td>Thabang Molaba</td>\n",
              "      <td>South Africa</td>\n",
              "    </tr>\n",
              "    <tr>\n",
              "      <th>4</th>\n",
              "      <td>5</td>\n",
              "      <td>s2</td>\n",
              "      <td>TV Show</td>\n",
              "      <td>Blood &amp; Water</td>\n",
              "      <td>Unknown</td>\n",
              "      <td>2021-09-24</td>\n",
              "      <td>2021</td>\n",
              "      <td>TV-MA</td>\n",
              "      <td>2 Seasons</td>\n",
              "      <td>International TV Shows, TV Dramas, TV Mysteries</td>\n",
              "      <td>After crossing paths at a party, a Cape Town t...</td>\n",
              "      <td>2021.0</td>\n",
              "      <td>9.0</td>\n",
              "      <td>Friday</td>\n",
              "      <td>Dillon Windvogel</td>\n",
              "      <td>South Africa</td>\n",
              "    </tr>\n",
              "  </tbody>\n",
              "</table>\n",
              "</div>\n",
              "      <button class=\"colab-df-convert\" onclick=\"convertToInteractive('df-18d1212c-b8d3-4bb1-b3e1-c61aea2ef783')\"\n",
              "              title=\"Convert this dataframe to an interactive table.\"\n",
              "              style=\"display:none;\">\n",
              "        \n",
              "  <svg xmlns=\"http://www.w3.org/2000/svg\" height=\"24px\"viewBox=\"0 0 24 24\"\n",
              "       width=\"24px\">\n",
              "    <path d=\"M0 0h24v24H0V0z\" fill=\"none\"/>\n",
              "    <path d=\"M18.56 5.44l.94 2.06.94-2.06 2.06-.94-2.06-.94-.94-2.06-.94 2.06-2.06.94zm-11 1L8.5 8.5l.94-2.06 2.06-.94-2.06-.94L8.5 2.5l-.94 2.06-2.06.94zm10 10l.94 2.06.94-2.06 2.06-.94-2.06-.94-.94-2.06-.94 2.06-2.06.94z\"/><path d=\"M17.41 7.96l-1.37-1.37c-.4-.4-.92-.59-1.43-.59-.52 0-1.04.2-1.43.59L10.3 9.45l-7.72 7.72c-.78.78-.78 2.05 0 2.83L4 21.41c.39.39.9.59 1.41.59.51 0 1.02-.2 1.41-.59l7.78-7.78 2.81-2.81c.8-.78.8-2.07 0-2.86zM5.41 20L4 18.59l7.72-7.72 1.47 1.35L5.41 20z\"/>\n",
              "  </svg>\n",
              "      </button>\n",
              "      \n",
              "  <style>\n",
              "    .colab-df-container {\n",
              "      display:flex;\n",
              "      flex-wrap:wrap;\n",
              "      gap: 12px;\n",
              "    }\n",
              "\n",
              "    .colab-df-convert {\n",
              "      background-color: #E8F0FE;\n",
              "      border: none;\n",
              "      border-radius: 50%;\n",
              "      cursor: pointer;\n",
              "      display: none;\n",
              "      fill: #1967D2;\n",
              "      height: 32px;\n",
              "      padding: 0 0 0 0;\n",
              "      width: 32px;\n",
              "    }\n",
              "\n",
              "    .colab-df-convert:hover {\n",
              "      background-color: #E2EBFA;\n",
              "      box-shadow: 0px 1px 2px rgba(60, 64, 67, 0.3), 0px 1px 3px 1px rgba(60, 64, 67, 0.15);\n",
              "      fill: #174EA6;\n",
              "    }\n",
              "\n",
              "    [theme=dark] .colab-df-convert {\n",
              "      background-color: #3B4455;\n",
              "      fill: #D2E3FC;\n",
              "    }\n",
              "\n",
              "    [theme=dark] .colab-df-convert:hover {\n",
              "      background-color: #434B5C;\n",
              "      box-shadow: 0px 1px 3px 1px rgba(0, 0, 0, 0.15);\n",
              "      filter: drop-shadow(0px 1px 2px rgba(0, 0, 0, 0.3));\n",
              "      fill: #FFFFFF;\n",
              "    }\n",
              "  </style>\n",
              "\n",
              "      <script>\n",
              "        const buttonEl =\n",
              "          document.querySelector('#df-18d1212c-b8d3-4bb1-b3e1-c61aea2ef783 button.colab-df-convert');\n",
              "        buttonEl.style.display =\n",
              "          google.colab.kernel.accessAllowed ? 'block' : 'none';\n",
              "\n",
              "        async function convertToInteractive(key) {\n",
              "          const element = document.querySelector('#df-18d1212c-b8d3-4bb1-b3e1-c61aea2ef783');\n",
              "          const dataTable =\n",
              "            await google.colab.kernel.invokeFunction('convertToInteractive',\n",
              "                                                     [key], {});\n",
              "          if (!dataTable) return;\n",
              "\n",
              "          const docLinkHtml = 'Like what you see? Visit the ' +\n",
              "            '<a target=\"_blank\" href=https://colab.research.google.com/notebooks/data_table.ipynb>data table notebook</a>'\n",
              "            + ' to learn more about interactive tables.';\n",
              "          element.innerHTML = '';\n",
              "          dataTable['output_type'] = 'display_data';\n",
              "          await google.colab.output.renderOutput(dataTable, element);\n",
              "          const docLink = document.createElement('div');\n",
              "          docLink.innerHTML = docLinkHtml;\n",
              "          element.appendChild(docLink);\n",
              "        }\n",
              "      </script>\n",
              "    </div>\n",
              "  </div>\n",
              "  "
            ]
          },
          "metadata": {},
          "execution_count": 89
        }
      ]
    },
    {
      "cell_type": "code",
      "source": [
        "country_actor = cast_countrywise['country'].value_counts()[:6].index.tolist()\n",
        "print(' Top 2 Actors of Top 5 Countries')\n",
        "print('\\n')\n",
        "for val in country:\n",
        "  if val != 'Unknown':\n",
        "    print(f'--{val}--')\n",
        "    print(cast_countrywise.loc[cast_countrywise['country']==val, 'cast'].value_counts()[:2])\n",
        "    print('\\n')"
      ],
      "metadata": {
        "colab": {
          "base_uri": "https://localhost:8080/"
        },
        "id": "f7rXwL5bnr_j",
        "outputId": "b3d6f8bd-06e8-4a07-d377-e9f314c79360"
      },
      "execution_count": null,
      "outputs": [
        {
          "output_type": "stream",
          "name": "stdout",
          "text": [
            " Top 2 Actors of Top 5 Countries\n",
            "\n",
            "\n",
            "--United States--\n",
            "Tara Strong          22\n",
            "Samuel L. Jackson    22\n",
            "Name: cast, dtype: int64\n",
            "\n",
            "\n",
            "--India--\n",
            "Anupam Kher       40\n",
            "Shah Rukh Khan    34\n",
            "Name: cast, dtype: int64\n",
            "\n",
            "\n",
            "--United Kingdom--\n",
            "David Attenborough    17\n",
            "John Cleese           16\n",
            "Name: cast, dtype: int64\n",
            "\n",
            "\n",
            "--Canada--\n",
            "John Paul Tremblay    14\n",
            "Robb Wells            14\n",
            "Name: cast, dtype: int64\n",
            "\n",
            "\n",
            "--France--\n",
            "Wille Lindberg    5\n",
            "Benoît Magimel    5\n",
            "Name: cast, dtype: int64\n",
            "\n",
            "\n"
          ]
        }
      ]
    },
    {
      "cell_type": "markdown",
      "source": [
        "**Conclusion :-**\n",
        "\n",
        "*   These are the top two cast of these countires.\n",
        "*   Netflix has added more content for India in which cast are- Anupam Kher or Shah Rukh Khan.\n",
        "\n"
      ],
      "metadata": {
        "id": "6SC89aROalag"
      }
    },
    {
      "cell_type": "code",
      "source": [
        "cast_countrywise[\"cast\"].value_counts().head(5) #value_counts of the cast columns to get the most famous actors"
      ],
      "metadata": {
        "colab": {
          "base_uri": "https://localhost:8080/"
        },
        "id": "QoDO3TS2bNF2",
        "outputId": "f290a054-5cbb-4b17-a31e-21f135185f5f"
      },
      "execution_count": null,
      "outputs": [
        {
          "output_type": "execute_result",
          "data": {
            "text/plain": [
              "Anupam Kher           46\n",
              "David Attenborough    45\n",
              "Vincent Tong          42\n",
              "John Cleese           40\n",
              "Tara Strong           39\n",
              "Name: cast, dtype: int64"
            ]
          },
          "metadata": {},
          "execution_count": 91
        }
      ]
    },
    {
      "cell_type": "markdown",
      "source": [
        "These are the top five actors and most famous actor belongs to India. "
      ],
      "metadata": {
        "id": "qsbeUjThbrNS"
      }
    },
    {
      "cell_type": "markdown",
      "source": [
        "# ***Heatmap***"
      ],
      "metadata": {
        "id": "7U4tTd9GNlaO"
      }
    },
    {
      "cell_type": "code",
      "source": [
        "df_trend_country = df.merge(df_country , on = \"title\")\n",
        "df_trend_country.drop(columns = \"country_x\" , inplace = True)\n",
        "df_trend_country.rename(columns = {\"country_y\":\"country\"}, inplace = True)"
      ],
      "metadata": {
        "id": "Ho2xVexuyNBY"
      },
      "execution_count": null,
      "outputs": []
    },
    {
      "cell_type": "code",
      "source": [
        "temp = df_trend_country['country'].value_counts()[:11].reset_index()\n",
        "temp.rename(columns = {'index':'country', 'country':'count'}, inplace=True)\n",
        "country_list = temp['country'].tolist()\n",
        "df_top10country = df_trend_country.loc[df_trend_country['country'].isin(country_list)]\n",
        "df_top10country = df_top10country.loc[df_top10country[\"country\"]!=\"Unknown\"] #dropping of rows whose value is unknown."
      ],
      "metadata": {
        "id": "VQwpJcrE9UND"
      },
      "execution_count": null,
      "outputs": []
    },
    {
      "cell_type": "code",
      "source": [
        "heat_rating = df_top10country.groupby(\"country\")[\"rating\"].value_counts().reset_index()\n",
        "heat_rating = heat_rating.pivot(\"country\" , \"level_1\" , \"rating\")\n",
        "plt.figure(figsize = (12,8))\n",
        "sns.heatmap(heat_rating, annot = True,  cmap=\"Blues\", fmt = \"d\")\n",
        "plt.title(\"Ditribution of content availble in differnt countires rating wise\")\n",
        "plt.show()\n"
      ],
      "metadata": {
        "colab": {
          "base_uri": "https://localhost:8080/",
          "height": 514
        },
        "id": "qby0Wv-y9Un7",
        "outputId": "f5457ea7-e84c-41a8-9d7e-4fa0f699b54d"
      },
      "execution_count": null,
      "outputs": [
        {
          "output_type": "display_data",
          "data": {
            "text/plain": [
              "<Figure size 864x576 with 2 Axes>"
            ],
            "image/png": "[encoded data removed]"
          },
          "metadata": {
            "needs_background": "light"
          }
        }
      ]
    },
    {
      "cell_type": "markdown",
      "source": [
        "**Conclusion :-**\n",
        "\n",
        "* Top 10 countries are having most content that belongs to TV-MA (Adults \n",
        "Category)\n",
        "* India and United States are having large content in TV-14 category. \n",
        "* United Kingdom and United States are having large content in R category. "
      ],
      "metadata": {
        "id": "poqJ519Ncy49"
      }
    },
    {
      "cell_type": "code",
      "source": [
        "genre_country_df= df_trend_country.merge(df_genre , on= \"title\")\n",
        "genre_country_df.head(5)"
      ],
      "metadata": {
        "colab": {
          "base_uri": "https://localhost:8080/",
          "height": 493
        },
        "id": "OxET1BDlG53E",
        "outputId": "3d9d5d7f-c40c-40c8-bc8b-4e0c88f9beda"
      },
      "execution_count": null,
      "outputs": [
        {
          "output_type": "execute_result",
          "data": {
            "text/plain": [
              "  show_id     type                 title         director  \\\n",
              "0      s1    Movie  Dick Johnson Is Dead  Kirsten Johnson   \n",
              "1      s2  TV Show         Blood & Water          Unknown   \n",
              "2      s2  TV Show         Blood & Water          Unknown   \n",
              "3      s2  TV Show         Blood & Water          Unknown   \n",
              "4      s3  TV Show             Ganglands  Julien Leclercq   \n",
              "\n",
              "                                                cast date_added  release_year  \\\n",
              "0                                            Unknown 2021-09-25          2020   \n",
              "1  Ama Qamata, Khosi Ngema, Gail Mabalane, Thaban... 2021-09-24          2021   \n",
              "2  Ama Qamata, Khosi Ngema, Gail Mabalane, Thaban... 2021-09-24          2021   \n",
              "3  Ama Qamata, Khosi Ngema, Gail Mabalane, Thaban... 2021-09-24          2021   \n",
              "4  Sami Bouajila, Tracy Gotoas, Samuel Jouy, Nabi... 2021-09-24          2021   \n",
              "\n",
              "  rating   duration                                          listed_in  \\\n",
              "0  PG-13     90 min                                      Documentaries   \n",
              "1  TV-MA  2 Seasons    International TV Shows, TV Dramas, TV Mysteries   \n",
              "2  TV-MA  2 Seasons    International TV Shows, TV Dramas, TV Mysteries   \n",
              "3  TV-MA  2 Seasons    International TV Shows, TV Dramas, TV Mysteries   \n",
              "4  TV-MA   1 Season  Crime TV Shows, International TV Shows, TV Act...   \n",
              "\n",
              "                                         description    Year  month       day  \\\n",
              "0  As her father nears the end of his life, filmm...  2021.0    9.0  Saturday   \n",
              "1  After crossing paths at a party, a Cape Town t...  2021.0    9.0    Friday   \n",
              "2  After crossing paths at a party, a Cape Town t...  2021.0    9.0    Friday   \n",
              "3  After crossing paths at a party, a Cape Town t...  2021.0    9.0    Friday   \n",
              "4  To protect his family from a powerful drug lor...  2021.0    9.0    Friday   \n",
              "\n",
              "         country                   genre  \n",
              "0  United States           Documentaries  \n",
              "1   South Africa  International TV Shows  \n",
              "2   South Africa               TV Dramas  \n",
              "3   South Africa            TV Mysteries  \n",
              "4        Unknown          Crime TV Shows  "
            ],
            "text/html": [
              "\n",
              "  <div id=\"df-239b8c81-1e57-4dc1-a4b0-4fb202a37ccd\">\n",
              "    <div class=\"colab-df-container\">\n",
              "      <div>\n",
              "<style scoped>\n",
              "    .dataframe tbody tr th:only-of-type {\n",
              "        vertical-align: middle;\n",
              "    }\n",
              "\n",
              "    .dataframe tbody tr th {\n",
              "        vertical-align: top;\n",
              "    }\n",
              "\n",
              "    .dataframe thead th {\n",
              "        text-align: right;\n",
              "    }\n",
              "</style>\n",
              "<table border=\"1\" class=\"dataframe\">\n",
              "  <thead>\n",
              "    <tr style=\"text-align: right;\">\n",
              "      <th></th>\n",
              "      <th>show_id</th>\n",
              "      <th>type</th>\n",
              "      <th>title</th>\n",
              "      <th>director</th>\n",
              "      <th>cast</th>\n",
              "      <th>date_added</th>\n",
              "      <th>release_year</th>\n",
              "      <th>rating</th>\n",
              "      <th>duration</th>\n",
              "      <th>listed_in</th>\n",
              "      <th>description</th>\n",
              "      <th>Year</th>\n",
              "      <th>month</th>\n",
              "      <th>day</th>\n",
              "      <th>country</th>\n",
              "      <th>genre</th>\n",
              "    </tr>\n",
              "  </thead>\n",
              "  <tbody>\n",
              "    <tr>\n",
              "      <th>0</th>\n",
              "      <td>s1</td>\n",
              "      <td>Movie</td>\n",
              "      <td>Dick Johnson Is Dead</td>\n",
              "      <td>Kirsten Johnson</td>\n",
              "      <td>Unknown</td>\n",
              "      <td>2021-09-25</td>\n",
              "      <td>2020</td>\n",
              "      <td>PG-13</td>\n",
              "      <td>90 min</td>\n",
              "      <td>Documentaries</td>\n",
              "      <td>As her father nears the end of his life, filmm...</td>\n",
              "      <td>2021.0</td>\n",
              "      <td>9.0</td>\n",
              "      <td>Saturday</td>\n",
              "      <td>United States</td>\n",
              "      <td>Documentaries</td>\n",
              "    </tr>\n",
              "    <tr>\n",
              "      <th>1</th>\n",
              "      <td>s2</td>\n",
              "      <td>TV Show</td>\n",
              "      <td>Blood &amp; Water</td>\n",
              "      <td>Unknown</td>\n",
              "      <td>Ama Qamata, Khosi Ngema, Gail Mabalane, Thaban...</td>\n",
              "      <td>2021-09-24</td>\n",
              "      <td>2021</td>\n",
              "      <td>TV-MA</td>\n",
              "      <td>2 Seasons</td>\n",
              "      <td>International TV Shows, TV Dramas, TV Mysteries</td>\n",
              "      <td>After crossing paths at a party, a Cape Town t...</td>\n",
              "      <td>2021.0</td>\n",
              "      <td>9.0</td>\n",
              "      <td>Friday</td>\n",
              "      <td>South Africa</td>\n",
              "      <td>International TV Shows</td>\n",
              "    </tr>\n",
              "    <tr>\n",
              "      <th>2</th>\n",
              "      <td>s2</td>\n",
              "      <td>TV Show</td>\n",
              "      <td>Blood &amp; Water</td>\n",
              "      <td>Unknown</td>\n",
              "      <td>Ama Qamata, Khosi Ngema, Gail Mabalane, Thaban...</td>\n",
              "      <td>2021-09-24</td>\n",
              "      <td>2021</td>\n",
              "      <td>TV-MA</td>\n",
              "      <td>2 Seasons</td>\n",
              "      <td>International TV Shows, TV Dramas, TV Mysteries</td>\n",
              "      <td>After crossing paths at a party, a Cape Town t...</td>\n",
              "      <td>2021.0</td>\n",
              "      <td>9.0</td>\n",
              "      <td>Friday</td>\n",
              "      <td>South Africa</td>\n",
              "      <td>TV Dramas</td>\n",
              "    </tr>\n",
              "    <tr>\n",
              "      <th>3</th>\n",
              "      <td>s2</td>\n",
              "      <td>TV Show</td>\n",
              "      <td>Blood &amp; Water</td>\n",
              "      <td>Unknown</td>\n",
              "      <td>Ama Qamata, Khosi Ngema, Gail Mabalane, Thaban...</td>\n",
              "      <td>2021-09-24</td>\n",
              "      <td>2021</td>\n",
              "      <td>TV-MA</td>\n",
              "      <td>2 Seasons</td>\n",
              "      <td>International TV Shows, TV Dramas, TV Mysteries</td>\n",
              "      <td>After crossing paths at a party, a Cape Town t...</td>\n",
              "      <td>2021.0</td>\n",
              "      <td>9.0</td>\n",
              "      <td>Friday</td>\n",
              "      <td>South Africa</td>\n",
              "      <td>TV Mysteries</td>\n",
              "    </tr>\n",
              "    <tr>\n",
              "      <th>4</th>\n",
              "      <td>s3</td>\n",
              "      <td>TV Show</td>\n",
              "      <td>Ganglands</td>\n",
              "      <td>Julien Leclercq</td>\n",
              "      <td>Sami Bouajila, Tracy Gotoas, Samuel Jouy, Nabi...</td>\n",
              "      <td>2021-09-24</td>\n",
              "      <td>2021</td>\n",
              "      <td>TV-MA</td>\n",
              "      <td>1 Season</td>\n",
              "      <td>Crime TV Shows, International TV Shows, TV Act...</td>\n",
              "      <td>To protect his family from a powerful drug lor...</td>\n",
              "      <td>2021.0</td>\n",
              "      <td>9.0</td>\n",
              "      <td>Friday</td>\n",
              "      <td>Unknown</td>\n",
              "      <td>Crime TV Shows</td>\n",
              "    </tr>\n",
              "  </tbody>\n",
              "</table>\n",
              "</div>\n",
              "      <button class=\"colab-df-convert\" onclick=\"convertToInteractive('df-239b8c81-1e57-4dc1-a4b0-4fb202a37ccd')\"\n",
              "              title=\"Convert this dataframe to an interactive table.\"\n",
              "              style=\"display:none;\">\n",
              "        \n",
              "  <svg xmlns=\"http://www.w3.org/2000/svg\" height=\"24px\"viewBox=\"0 0 24 24\"\n",
              "       width=\"24px\">\n",
              "    <path d=\"M0 0h24v24H0V0z\" fill=\"none\"/>\n",
              "    <path d=\"M18.56 5.44l.94 2.06.94-2.06 2.06-.94-2.06-.94-.94-2.06-.94 2.06-2.06.94zm-11 1L8.5 8.5l.94-2.06 2.06-.94-2.06-.94L8.5 2.5l-.94 2.06-2.06.94zm10 10l.94 2.06.94-2.06 2.06-.94-2.06-.94-.94-2.06-.94 2.06-2.06.94z\"/><path d=\"M17.41 7.96l-1.37-1.37c-.4-.4-.92-.59-1.43-.59-.52 0-1.04.2-1.43.59L10.3 9.45l-7.72 7.72c-.78.78-.78 2.05 0 2.83L4 21.41c.39.39.9.59 1.41.59.51 0 1.02-.2 1.41-.59l7.78-7.78 2.81-2.81c.8-.78.8-2.07 0-2.86zM5.41 20L4 18.59l7.72-7.72 1.47 1.35L5.41 20z\"/>\n",
              "  </svg>\n",
              "      </button>\n",
              "      \n",
              "  <style>\n",
              "    .colab-df-container {\n",
              "      display:flex;\n",
              "      flex-wrap:wrap;\n",
              "      gap: 12px;\n",
              "    }\n",
              "\n",
              "    .colab-df-convert {\n",
              "      background-color: #E8F0FE;\n",
              "      border: none;\n",
              "      border-radius: 50%;\n",
              "      cursor: pointer;\n",
              "      display: none;\n",
              "      fill: #1967D2;\n",
              "      height: 32px;\n",
              "      padding: 0 0 0 0;\n",
              "      width: 32px;\n",
              "    }\n",
              "\n",
              "    .colab-df-convert:hover {\n",
              "      background-color: #E2EBFA;\n",
              "      box-shadow: 0px 1px 2px rgba(60, 64, 67, 0.3), 0px 1px 3px 1px rgba(60, 64, 67, 0.15);\n",
              "      fill: #174EA6;\n",
              "    }\n",
              "\n",
              "    [theme=dark] .colab-df-convert {\n",
              "      background-color: #3B4455;\n",
              "      fill: #D2E3FC;\n",
              "    }\n",
              "\n",
              "    [theme=dark] .colab-df-convert:hover {\n",
              "      background-color: #434B5C;\n",
              "      box-shadow: 0px 1px 3px 1px rgba(0, 0, 0, 0.15);\n",
              "      filter: drop-shadow(0px 1px 2px rgba(0, 0, 0, 0.3));\n",
              "      fill: #FFFFFF;\n",
              "    }\n",
              "  </style>\n",
              "\n",
              "      <script>\n",
              "        const buttonEl =\n",
              "          document.querySelector('#df-239b8c81-1e57-4dc1-a4b0-4fb202a37ccd button.colab-df-convert');\n",
              "        buttonEl.style.display =\n",
              "          google.colab.kernel.accessAllowed ? 'block' : 'none';\n",
              "\n",
              "        async function convertToInteractive(key) {\n",
              "          const element = document.querySelector('#df-239b8c81-1e57-4dc1-a4b0-4fb202a37ccd');\n",
              "          const dataTable =\n",
              "            await google.colab.kernel.invokeFunction('convertToInteractive',\n",
              "                                                     [key], {});\n",
              "          if (!dataTable) return;\n",
              "\n",
              "          const docLinkHtml = 'Like what you see? Visit the ' +\n",
              "            '<a target=\"_blank\" href=https://colab.research.google.com/notebooks/data_table.ipynb>data table notebook</a>'\n",
              "            + ' to learn more about interactive tables.';\n",
              "          element.innerHTML = '';\n",
              "          dataTable['output_type'] = 'display_data';\n",
              "          await google.colab.output.renderOutput(dataTable, element);\n",
              "          const docLink = document.createElement('div');\n",
              "          docLink.innerHTML = docLinkHtml;\n",
              "          element.appendChild(docLink);\n",
              "        }\n",
              "      </script>\n",
              "    </div>\n",
              "  </div>\n",
              "  "
            ]
          },
          "metadata": {},
          "execution_count": 95
        }
      ]
    },
    {
      "cell_type": "code",
      "source": [
        "temp_genre = genre_country_df['genre'].value_counts()[:10].reset_index()\n",
        "temp_genre.rename(columns = {'index':'genre', 'genre':'count'}, inplace=True)\n",
        "genre_list = temp_genre['genre'].tolist()\n",
        "df_top10_genre = genre_country_df.loc[genre_country_df['genre'].isin(genre_list)]\n",
        "df_top10_genre.head()"
      ],
      "metadata": {
        "colab": {
          "base_uri": "https://localhost:8080/",
          "height": 493
        },
        "id": "IziYfFRvHCIc",
        "outputId": "8f98e687-8ad2-49e7-a637-cb1520cbb00b"
      },
      "execution_count": null,
      "outputs": [
        {
          "output_type": "execute_result",
          "data": {
            "text/plain": [
              "  show_id     type                 title         director  \\\n",
              "0      s1    Movie  Dick Johnson Is Dead  Kirsten Johnson   \n",
              "1      s2  TV Show         Blood & Water          Unknown   \n",
              "2      s2  TV Show         Blood & Water          Unknown   \n",
              "5      s3  TV Show             Ganglands  Julien Leclercq   \n",
              "9      s5  TV Show          Kota Factory          Unknown   \n",
              "\n",
              "                                                cast date_added  release_year  \\\n",
              "0                                            Unknown 2021-09-25          2020   \n",
              "1  Ama Qamata, Khosi Ngema, Gail Mabalane, Thaban... 2021-09-24          2021   \n",
              "2  Ama Qamata, Khosi Ngema, Gail Mabalane, Thaban... 2021-09-24          2021   \n",
              "5  Sami Bouajila, Tracy Gotoas, Samuel Jouy, Nabi... 2021-09-24          2021   \n",
              "9  Mayur More, Jitendra Kumar, Ranjan Raj, Alam K... 2021-09-24          2021   \n",
              "\n",
              "  rating   duration                                          listed_in  \\\n",
              "0  PG-13     90 min                                      Documentaries   \n",
              "1  TV-MA  2 Seasons    International TV Shows, TV Dramas, TV Mysteries   \n",
              "2  TV-MA  2 Seasons    International TV Shows, TV Dramas, TV Mysteries   \n",
              "5  TV-MA   1 Season  Crime TV Shows, International TV Shows, TV Act...   \n",
              "9  TV-MA  2 Seasons  International TV Shows, Romantic TV Shows, TV ...   \n",
              "\n",
              "                                         description    Year  month       day  \\\n",
              "0  As her father nears the end of his life, filmm...  2021.0    9.0  Saturday   \n",
              "1  After crossing paths at a party, a Cape Town t...  2021.0    9.0    Friday   \n",
              "2  After crossing paths at a party, a Cape Town t...  2021.0    9.0    Friday   \n",
              "5  To protect his family from a powerful drug lor...  2021.0    9.0    Friday   \n",
              "9  In a city of coaching centers known to train I...  2021.0    9.0    Friday   \n",
              "\n",
              "         country                   genre  \n",
              "0  United States           Documentaries  \n",
              "1   South Africa  International TV Shows  \n",
              "2   South Africa               TV Dramas  \n",
              "5        Unknown  International TV Shows  \n",
              "9          India  International TV Shows  "
            ],
            "text/html": [
              "\n",
              "  <div id=\"df-41e62899-b07c-4b0e-9779-f000491ba6df\">\n",
              "    <div class=\"colab-df-container\">\n",
              "      <div>\n",
              "<style scoped>\n",
              "    .dataframe tbody tr th:only-of-type {\n",
              "        vertical-align: middle;\n",
              "    }\n",
              "\n",
              "    .dataframe tbody tr th {\n",
              "        vertical-align: top;\n",
              "    }\n",
              "\n",
              "    .dataframe thead th {\n",
              "        text-align: right;\n",
              "    }\n",
              "</style>\n",
              "<table border=\"1\" class=\"dataframe\">\n",
              "  <thead>\n",
              "    <tr style=\"text-align: right;\">\n",
              "      <th></th>\n",
              "      <th>show_id</th>\n",
              "      <th>type</th>\n",
              "      <th>title</th>\n",
              "      <th>director</th>\n",
              "      <th>cast</th>\n",
              "      <th>date_added</th>\n",
              "      <th>release_year</th>\n",
              "      <th>rating</th>\n",
              "      <th>duration</th>\n",
              "      <th>listed_in</th>\n",
              "      <th>description</th>\n",
              "      <th>Year</th>\n",
              "      <th>month</th>\n",
              "      <th>day</th>\n",
              "      <th>country</th>\n",
              "      <th>genre</th>\n",
              "    </tr>\n",
              "  </thead>\n",
              "  <tbody>\n",
              "    <tr>\n",
              "      <th>0</th>\n",
              "      <td>s1</td>\n",
              "      <td>Movie</td>\n",
              "      <td>Dick Johnson Is Dead</td>\n",
              "      <td>Kirsten Johnson</td>\n",
              "      <td>Unknown</td>\n",
              "      <td>2021-09-25</td>\n",
              "      <td>2020</td>\n",
              "      <td>PG-13</td>\n",
              "      <td>90 min</td>\n",
              "      <td>Documentaries</td>\n",
              "      <td>As her father nears the end of his life, filmm...</td>\n",
              "      <td>2021.0</td>\n",
              "      <td>9.0</td>\n",
              "      <td>Saturday</td>\n",
              "      <td>United States</td>\n",
              "      <td>Documentaries</td>\n",
              "    </tr>\n",
              "    <tr>\n",
              "      <th>1</th>\n",
              "      <td>s2</td>\n",
              "      <td>TV Show</td>\n",
              "      <td>Blood &amp; Water</td>\n",
              "      <td>Unknown</td>\n",
              "      <td>Ama Qamata, Khosi Ngema, Gail Mabalane, Thaban...</td>\n",
              "      <td>2021-09-24</td>\n",
              "      <td>2021</td>\n",
              "      <td>TV-MA</td>\n",
              "      <td>2 Seasons</td>\n",
              "      <td>International TV Shows, TV Dramas, TV Mysteries</td>\n",
              "      <td>After crossing paths at a party, a Cape Town t...</td>\n",
              "      <td>2021.0</td>\n",
              "      <td>9.0</td>\n",
              "      <td>Friday</td>\n",
              "      <td>South Africa</td>\n",
              "      <td>International TV Shows</td>\n",
              "    </tr>\n",
              "    <tr>\n",
              "      <th>2</th>\n",
              "      <td>s2</td>\n",
              "      <td>TV Show</td>\n",
              "      <td>Blood &amp; Water</td>\n",
              "      <td>Unknown</td>\n",
              "      <td>Ama Qamata, Khosi Ngema, Gail Mabalane, Thaban...</td>\n",
              "      <td>2021-09-24</td>\n",
              "      <td>2021</td>\n",
              "      <td>TV-MA</td>\n",
              "      <td>2 Seasons</td>\n",
              "      <td>International TV Shows, TV Dramas, TV Mysteries</td>\n",
              "      <td>After crossing paths at a party, a Cape Town t...</td>\n",
              "      <td>2021.0</td>\n",
              "      <td>9.0</td>\n",
              "      <td>Friday</td>\n",
              "      <td>South Africa</td>\n",
              "      <td>TV Dramas</td>\n",
              "    </tr>\n",
              "    <tr>\n",
              "      <th>5</th>\n",
              "      <td>s3</td>\n",
              "      <td>TV Show</td>\n",
              "      <td>Ganglands</td>\n",
              "      <td>Julien Leclercq</td>\n",
              "      <td>Sami Bouajila, Tracy Gotoas, Samuel Jouy, Nabi...</td>\n",
              "      <td>2021-09-24</td>\n",
              "      <td>2021</td>\n",
              "      <td>TV-MA</td>\n",
              "      <td>1 Season</td>\n",
              "      <td>Crime TV Shows, International TV Shows, TV Act...</td>\n",
              "      <td>To protect his family from a powerful drug lor...</td>\n",
              "      <td>2021.0</td>\n",
              "      <td>9.0</td>\n",
              "      <td>Friday</td>\n",
              "      <td>Unknown</td>\n",
              "      <td>International TV Shows</td>\n",
              "    </tr>\n",
              "    <tr>\n",
              "      <th>9</th>\n",
              "      <td>s5</td>\n",
              "      <td>TV Show</td>\n",
              "      <td>Kota Factory</td>\n",
              "      <td>Unknown</td>\n",
              "      <td>Mayur More, Jitendra Kumar, Ranjan Raj, Alam K...</td>\n",
              "      <td>2021-09-24</td>\n",
              "      <td>2021</td>\n",
              "      <td>TV-MA</td>\n",
              "      <td>2 Seasons</td>\n",
              "      <td>International TV Shows, Romantic TV Shows, TV ...</td>\n",
              "      <td>In a city of coaching centers known to train I...</td>\n",
              "      <td>2021.0</td>\n",
              "      <td>9.0</td>\n",
              "      <td>Friday</td>\n",
              "      <td>India</td>\n",
              "      <td>International TV Shows</td>\n",
              "    </tr>\n",
              "  </tbody>\n",
              "</table>\n",
              "</div>\n",
              "      <button class=\"colab-df-convert\" onclick=\"convertToInteractive('df-41e62899-b07c-4b0e-9779-f000491ba6df')\"\n",
              "              title=\"Convert this dataframe to an interactive table.\"\n",
              "              style=\"display:none;\">\n",
              "        \n",
              "  <svg xmlns=\"http://www.w3.org/2000/svg\" height=\"24px\"viewBox=\"0 0 24 24\"\n",
              "       width=\"24px\">\n",
              "    <path d=\"M0 0h24v24H0V0z\" fill=\"none\"/>\n",
              "    <path d=\"M18.56 5.44l.94 2.06.94-2.06 2.06-.94-2.06-.94-.94-2.06-.94 2.06-2.06.94zm-11 1L8.5 8.5l.94-2.06 2.06-.94-2.06-.94L8.5 2.5l-.94 2.06-2.06.94zm10 10l.94 2.06.94-2.06 2.06-.94-2.06-.94-.94-2.06-.94 2.06-2.06.94z\"/><path d=\"M17.41 7.96l-1.37-1.37c-.4-.4-.92-.59-1.43-.59-.52 0-1.04.2-1.43.59L10.3 9.45l-7.72 7.72c-.78.78-.78 2.05 0 2.83L4 21.41c.39.39.9.59 1.41.59.51 0 1.02-.2 1.41-.59l7.78-7.78 2.81-2.81c.8-.78.8-2.07 0-2.86zM5.41 20L4 18.59l7.72-7.72 1.47 1.35L5.41 20z\"/>\n",
              "  </svg>\n",
              "      </button>\n",
              "      \n",
              "  <style>\n",
              "    .colab-df-container {\n",
              "      display:flex;\n",
              "      flex-wrap:wrap;\n",
              "      gap: 12px;\n",
              "    }\n",
              "\n",
              "    .colab-df-convert {\n",
              "      background-color: #E8F0FE;\n",
              "      border: none;\n",
              "      border-radius: 50%;\n",
              "      cursor: pointer;\n",
              "      display: none;\n",
              "      fill: #1967D2;\n",
              "      height: 32px;\n",
              "      padding: 0 0 0 0;\n",
              "      width: 32px;\n",
              "    }\n",
              "\n",
              "    .colab-df-convert:hover {\n",
              "      background-color: #E2EBFA;\n",
              "      box-shadow: 0px 1px 2px rgba(60, 64, 67, 0.3), 0px 1px 3px 1px rgba(60, 64, 67, 0.15);\n",
              "      fill: #174EA6;\n",
              "    }\n",
              "\n",
              "    [theme=dark] .colab-df-convert {\n",
              "      background-color: #3B4455;\n",
              "      fill: #D2E3FC;\n",
              "    }\n",
              "\n",
              "    [theme=dark] .colab-df-convert:hover {\n",
              "      background-color: #434B5C;\n",
              "      box-shadow: 0px 1px 3px 1px rgba(0, 0, 0, 0.15);\n",
              "      filter: drop-shadow(0px 1px 2px rgba(0, 0, 0, 0.3));\n",
              "      fill: #FFFFFF;\n",
              "    }\n",
              "  </style>\n",
              "\n",
              "      <script>\n",
              "        const buttonEl =\n",
              "          document.querySelector('#df-41e62899-b07c-4b0e-9779-f000491ba6df button.colab-df-convert');\n",
              "        buttonEl.style.display =\n",
              "          google.colab.kernel.accessAllowed ? 'block' : 'none';\n",
              "\n",
              "        async function convertToInteractive(key) {\n",
              "          const element = document.querySelector('#df-41e62899-b07c-4b0e-9779-f000491ba6df');\n",
              "          const dataTable =\n",
              "            await google.colab.kernel.invokeFunction('convertToInteractive',\n",
              "                                                     [key], {});\n",
              "          if (!dataTable) return;\n",
              "\n",
              "          const docLinkHtml = 'Like what you see? Visit the ' +\n",
              "            '<a target=\"_blank\" href=https://colab.research.google.com/notebooks/data_table.ipynb>data table notebook</a>'\n",
              "            + ' to learn more about interactive tables.';\n",
              "          element.innerHTML = '';\n",
              "          dataTable['output_type'] = 'display_data';\n",
              "          await google.colab.output.renderOutput(dataTable, element);\n",
              "          const docLink = document.createElement('div');\n",
              "          docLink.innerHTML = docLinkHtml;\n",
              "          element.appendChild(docLink);\n",
              "        }\n",
              "      </script>\n",
              "    </div>\n",
              "  </div>\n",
              "  "
            ]
          },
          "metadata": {},
          "execution_count": 96
        }
      ]
    },
    {
      "cell_type": "code",
      "source": [
        "df_top10_genre = df_top10_genre.loc[df_top10_genre[\"country\"] != \"Unknown\"]\n",
        "df_top10_genre[\"country\"].value_counts()[:10]\n",
        "\n",
        "temp_c = df_top10_genre[\"country\"].value_counts()[:10].reset_index()\n",
        "temp_c.rename(columns = {'index':'country', 'country':'count'}, inplace=True)\n",
        "country_list = temp_c[\"country\"].tolist()\n",
        "df_top10_genre_countrywise = df_top10_genre.loc[df_top10_genre['country'].isin(country_list)]\n",
        "df_top10_genre_countrywise.head()\n",
        "\n",
        "heat_genre= pd.DataFrame(df_top10_genre_countrywise.groupby(\"genre\")[\"country\"].value_counts())\n",
        "heat_genre.rename(columns = {\"country\" : \"count\"}, inplace = True)\n",
        "heat_genre.reset_index(inplace = True)\n",
        "heat_genre_final = heat_genre.pivot(\"genre\" , \"country\" , \"count\")\n",
        "plt.figure(figsize = (12,8))\n",
        "sns.heatmap(heat_genre_final , annot = True,  cmap=\"Blues\", fmt = \"d\")\n",
        "plt.title(\"Top 10 genre of 10 differnt countries\")\n",
        "plt.show()"
      ],
      "metadata": {
        "colab": {
          "base_uri": "https://localhost:8080/",
          "height": 583
        },
        "id": "PWiDmVvfHFJW",
        "outputId": "fd24c728-138a-453d-fe90-f34ecec98810"
      },
      "execution_count": null,
      "outputs": [
        {
          "output_type": "display_data",
          "data": {
            "text/plain": [
              "<Figure size 864x576 with 2 Axes>"
            ],
            "image/png": "[encoded data removed]"
          },
          "metadata": {
            "needs_background": "light"
          }
        }
      ]
    },
    {
      "cell_type": "markdown",
      "source": [
        "**Conclusion** :-\n",
        "*  For India, netflix should add more content of genre International movies , Comedies and Dramas.\n",
        "* For United States , Netflix should add more content of genre Dramas and Comedy.\n",
        "* For Canada, Netflix should add more content of genre Dramas & Children and family movies.\n"
      ],
      "metadata": {
        "id": "AQ0CBTR8gtkm"
      }
    },
    {
      "cell_type": "markdown",
      "source": [
        "# **Summary :-**\n",
        "\n",
        "\n",
        "*   Netflix added more movies as compare to TV shows\n",
        "*   Content for United States on netflix is maximum as compare to other countries. \n",
        "*   Netflix content is mostly availabe for adults only \n",
        "*   Most popular genres in recent years are International movies, Dramas, Comedies, International TV Shows and Action & Adventure.\n",
        "* In 2021 , there is significant amount of drop in content added due to COVID pandemic.\n",
        "*Most of viewers of Netflix is from United States followed by India & United Kingdom\n",
        "\n",
        "**Movies:-**\n",
        "* In United States , India and United kingdom movies are more popular as comapre to other countires \n",
        "* Almost same no. of movies are added on netflix every month.\n",
        "* Mostly movies are of \"100 min\" duration.\n",
        "* Top people casted in Movies are from India.\n",
        "* \"Rajiv Chilakaa\" is the most famous director among all. \n",
        "\n",
        "**TV Shows :-**\n",
        "* TV Shows mostly are having season 1 and season 2 respectively. \n",
        "* For Japan and South Korea, netflix should focus more on TV showes as compare to movies \n"
      ],
      "metadata": {
        "id": "QF1chtZRP-YH"
      }
    },
    {
      "cell_type": "markdown",
      "source": [
        "**Recommendations** : \n",
        "\n",
        "*Movies* :- \n",
        "* Preferd movies duration is between 90-100 minutes. \n",
        "* Netflix should add more movies for United States and India falling in category of Internation movies and comedies\n",
        "* Netflix should add more movies for United States and India having rating of TV-MA & TV-14. \n",
        "* Top three countries where movies added are United States, India & United Kingdom.\n",
        "*  Netflix shoud add TV Show on Friday than any other weekday.\n",
        "\n",
        "*TV Show*:- \n",
        "* Preferd movies duration is 1-2 seeasons.\n",
        "* Netflix should focus on countries like Japan, South Korea and France in TV shows , as they prefer TV shows over movies. \n",
        "* Netflix shoud add TV Show on Friday than other weekday.\n",
        "* As per 2021 data, count of TV showes are more than movies , this means people wants more web-series as they have for leisure time may be due to work from home scenario. \n"
      ],
      "metadata": {
        "id": "4l2rPkj6ipUO"
      }
    }
  ]
}